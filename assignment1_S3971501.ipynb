{
 "cells": [
  {
   "cell_type": "markdown",
   "metadata": {
    "id": "u-EEv9utoT69"
   },
   "source": [
    "# Task 1: Data Preparation\n"
   ]
  },
  {
   "cell_type": "code",
   "execution_count": 1,
   "metadata": {
    "id": "Qykq4YuQtZUS"
   },
   "outputs": [],
   "source": [
    "# importing necessary libraries\n",
    "\n",
    "# importing pandas\n",
    "import pandas as pd\n",
    "import numpy as np\n",
    "import matplotlib.pyplot as plt\n",
    "from pandas.plotting import scatter_matrix"
   ]
  },
  {
   "cell_type": "code",
   "execution_count": 2,
   "metadata": {
    "id": "RU9Pm6LKfToO"
   },
   "outputs": [],
   "source": [
    "# Loading data - Offline Method\n",
    "\n",
    "# All the csv files are stored in current working directory inside data folder\n",
    "\n",
    "primary = pd.read_csv(\"Primary.csv\",sep=\",\",decimal=\".\")"
   ]
  },
  {
   "cell_type": "code",
   "execution_count": 3,
   "metadata": {},
   "outputs": [
    {
     "data": {
      "text/html": [
       "<div>\n",
       "<style scoped>\n",
       "    .dataframe tbody tr th:only-of-type {\n",
       "        vertical-align: middle;\n",
       "    }\n",
       "\n",
       "    .dataframe tbody tr th {\n",
       "        vertical-align: top;\n",
       "    }\n",
       "\n",
       "    .dataframe thead th {\n",
       "        text-align: right;\n",
       "    }\n",
       "</style>\n",
       "<table border=\"1\" class=\"dataframe\">\n",
       "  <thead>\n",
       "    <tr style=\"text-align: right;\">\n",
       "      <th></th>\n",
       "      <th>column A</th>\n",
       "      <th>column B</th>\n",
       "      <th>column C</th>\n",
       "      <th>column  D</th>\n",
       "      <th>column E</th>\n",
       "      <th>column F</th>\n",
       "      <th>column G</th>\n",
       "      <th>column H</th>\n",
       "      <th>column I</th>\n",
       "      <th>column J</th>\n",
       "      <th>column K</th>\n",
       "      <th>column L</th>\n",
       "    </tr>\n",
       "  </thead>\n",
       "  <tbody>\n",
       "    <tr>\n",
       "      <th>0</th>\n",
       "      <td>ISO3</td>\n",
       "      <td>Countries and areas</td>\n",
       "      <td>Region</td>\n",
       "      <td>Sub-region</td>\n",
       "      <td>Income Group</td>\n",
       "      <td>Total</td>\n",
       "      <td>Rural (Residence)</td>\n",
       "      <td>Urban (Residence)</td>\n",
       "      <td>Poorest (Wealth quintile)</td>\n",
       "      <td>Richest (Wealth quintile)</td>\n",
       "      <td>Data source</td>\n",
       "      <td>Time period</td>\n",
       "    </tr>\n",
       "    <tr>\n",
       "      <th>1</th>\n",
       "      <td>AGO</td>\n",
       "      <td>Angola</td>\n",
       "      <td>SSA</td>\n",
       "      <td>ESA</td>\n",
       "      <td>Lower middle income (LM)</td>\n",
       "      <td>15%</td>\n",
       "      <td>2%</td>\n",
       "      <td>22%</td>\n",
       "      <td>0%</td>\n",
       "      <td>61%</td>\n",
       "      <td>Demographic and Health Survey</td>\n",
       "      <td>2015-16</td>\n",
       "    </tr>\n",
       "    <tr>\n",
       "      <th>2</th>\n",
       "      <td>ARG</td>\n",
       "      <td>Argentina</td>\n",
       "      <td>LAC</td>\n",
       "      <td>LAC</td>\n",
       "      <td>Upper middle income (UM)</td>\n",
       "      <td>39%</td>\n",
       "      <td>NaN</td>\n",
       "      <td>NaN</td>\n",
       "      <td>NaN</td>\n",
       "      <td>NaN</td>\n",
       "      <td>Multiple Indicator Cluster Survey</td>\n",
       "      <td>2011-12</td>\n",
       "    </tr>\n",
       "    <tr>\n",
       "      <th>3</th>\n",
       "      <td>ARM</td>\n",
       "      <td>Armenia</td>\n",
       "      <td>ECA</td>\n",
       "      <td>EECA</td>\n",
       "      <td>Upper middle income (UM)</td>\n",
       "      <td>81%</td>\n",
       "      <td>69%</td>\n",
       "      <td>89%</td>\n",
       "      <td>46%</td>\n",
       "      <td>99%</td>\n",
       "      <td>Demographic and Health Survey</td>\n",
       "      <td>2015-16</td>\n",
       "    </tr>\n",
       "    <tr>\n",
       "      <th>4</th>\n",
       "      <td>BGD</td>\n",
       "      <td>Bangladesh</td>\n",
       "      <td>SA</td>\n",
       "      <td>SA</td>\n",
       "      <td>Lower middle income (LM)</td>\n",
       "      <td>34%</td>\n",
       "      <td>30%</td>\n",
       "      <td>49%</td>\n",
       "      <td>7%</td>\n",
       "      <td>75%</td>\n",
       "      <td>Multiple Indicator Cluster Survey</td>\n",
       "      <td>2019</td>\n",
       "    </tr>\n",
       "  </tbody>\n",
       "</table>\n",
       "</div>"
      ],
      "text/plain": [
       "  column A             column B column C   column  D  \\\n",
       "0     ISO3  Countries and areas   Region  Sub-region   \n",
       "1      AGO               Angola      SSA         ESA   \n",
       "2      ARG            Argentina      LAC         LAC   \n",
       "3      ARM              Armenia      ECA        EECA   \n",
       "4      BGD           Bangladesh       SA          SA   \n",
       "\n",
       "                   column E column F           column G           column H  \\\n",
       "0              Income Group    Total  Rural (Residence)  Urban (Residence)   \n",
       "1  Lower middle income (LM)      15%                 2%                22%   \n",
       "2  Upper middle income (UM)      39%                NaN                NaN   \n",
       "3  Upper middle income (UM)      81%                69%                89%   \n",
       "4  Lower middle income (LM)      34%                30%                49%   \n",
       "\n",
       "                    column I                   column J  \\\n",
       "0  Poorest (Wealth quintile)  Richest (Wealth quintile)   \n",
       "1                         0%                        61%   \n",
       "2                        NaN                        NaN   \n",
       "3                        46%                        99%   \n",
       "4                         7%                        75%   \n",
       "\n",
       "                            column K     column L  \n",
       "0                        Data source  Time period  \n",
       "1      Demographic and Health Survey      2015-16  \n",
       "2  Multiple Indicator Cluster Survey      2011-12  \n",
       "3      Demographic and Health Survey      2015-16  \n",
       "4  Multiple Indicator Cluster Survey         2019  "
      ]
     },
     "execution_count": 3,
     "metadata": {},
     "output_type": "execute_result"
    }
   ],
   "source": [
    "primary.head()"
   ]
  },
  {
   "cell_type": "code",
   "execution_count": 4,
   "metadata": {},
   "outputs": [
    {
     "data": {
      "text/plain": [
       "(88, 12)"
      ]
     },
     "execution_count": 4,
     "metadata": {},
     "output_type": "execute_result"
    }
   ],
   "source": [
    "primary.shape"
   ]
  },
  {
   "cell_type": "code",
   "execution_count": 5,
   "metadata": {},
   "outputs": [],
   "source": [
    "# even though the loaded data is similar to the csv file, it is not usable. \n",
    "# The given files have actual headers in 2nd line of columns so all the csv should be read like\n",
    "\n",
    "\n",
    "# set header from second row\n",
    "primary_df = pd.read_csv(\"Primary.csv\",sep=\",\",decimal=\".\", header=1, index_col=False)\n",
    "secondary_df = pd.read_csv(\"Secondary.csv\",sep=\",\",decimal=\".\",header=1,index_col=False)\n",
    "total_school_age_df = pd.read_csv(\"Total School Age.csv\",sep=\",\",decimal=\".\",header=1,index_col=False)\n",
    "\n"
   ]
  },
  {
   "cell_type": "code",
   "execution_count": 6,
   "metadata": {},
   "outputs": [
    {
     "data": {
      "text/html": [
       "<div>\n",
       "<style scoped>\n",
       "    .dataframe tbody tr th:only-of-type {\n",
       "        vertical-align: middle;\n",
       "    }\n",
       "\n",
       "    .dataframe tbody tr th {\n",
       "        vertical-align: top;\n",
       "    }\n",
       "\n",
       "    .dataframe thead th {\n",
       "        text-align: right;\n",
       "    }\n",
       "</style>\n",
       "<table border=\"1\" class=\"dataframe\">\n",
       "  <thead>\n",
       "    <tr style=\"text-align: right;\">\n",
       "      <th></th>\n",
       "      <th>ISO3</th>\n",
       "      <th>Countries and areas</th>\n",
       "      <th>Region</th>\n",
       "      <th>Sub-region</th>\n",
       "      <th>Income Group</th>\n",
       "      <th>Total</th>\n",
       "      <th>Rural (Residence)</th>\n",
       "      <th>Urban (Residence)</th>\n",
       "      <th>Poorest (Wealth quintile)</th>\n",
       "      <th>Richest (Wealth quintile)</th>\n",
       "      <th>Data source</th>\n",
       "      <th>Time period</th>\n",
       "    </tr>\n",
       "  </thead>\n",
       "  <tbody>\n",
       "    <tr>\n",
       "      <th>0</th>\n",
       "      <td>AGO</td>\n",
       "      <td>Angola</td>\n",
       "      <td>SSA</td>\n",
       "      <td>ESA</td>\n",
       "      <td>Lower middle income (LM)</td>\n",
       "      <td>15%</td>\n",
       "      <td>2%</td>\n",
       "      <td>22%</td>\n",
       "      <td>0%</td>\n",
       "      <td>61%</td>\n",
       "      <td>Demographic and Health Survey</td>\n",
       "      <td>2015-16</td>\n",
       "    </tr>\n",
       "    <tr>\n",
       "      <th>1</th>\n",
       "      <td>ARG</td>\n",
       "      <td>Argentina</td>\n",
       "      <td>LAC</td>\n",
       "      <td>LAC</td>\n",
       "      <td>Upper middle income (UM)</td>\n",
       "      <td>39%</td>\n",
       "      <td>NaN</td>\n",
       "      <td>NaN</td>\n",
       "      <td>NaN</td>\n",
       "      <td>NaN</td>\n",
       "      <td>Multiple Indicator Cluster Survey</td>\n",
       "      <td>2011-12</td>\n",
       "    </tr>\n",
       "    <tr>\n",
       "      <th>2</th>\n",
       "      <td>ARM</td>\n",
       "      <td>Armenia</td>\n",
       "      <td>ECA</td>\n",
       "      <td>EECA</td>\n",
       "      <td>Upper middle income (UM)</td>\n",
       "      <td>81%</td>\n",
       "      <td>69%</td>\n",
       "      <td>89%</td>\n",
       "      <td>46%</td>\n",
       "      <td>99%</td>\n",
       "      <td>Demographic and Health Survey</td>\n",
       "      <td>2015-16</td>\n",
       "    </tr>\n",
       "    <tr>\n",
       "      <th>3</th>\n",
       "      <td>BGD</td>\n",
       "      <td>Bangladesh</td>\n",
       "      <td>SA</td>\n",
       "      <td>SA</td>\n",
       "      <td>Lower middle income (LM)</td>\n",
       "      <td>34%</td>\n",
       "      <td>30%</td>\n",
       "      <td>49%</td>\n",
       "      <td>7%</td>\n",
       "      <td>75%</td>\n",
       "      <td>Multiple Indicator Cluster Survey</td>\n",
       "      <td>2019</td>\n",
       "    </tr>\n",
       "    <tr>\n",
       "      <th>4</th>\n",
       "      <td>BRB</td>\n",
       "      <td>Barbados</td>\n",
       "      <td>LAC</td>\n",
       "      <td>LAC</td>\n",
       "      <td>High income (H)</td>\n",
       "      <td>63%</td>\n",
       "      <td>54%</td>\n",
       "      <td>68%</td>\n",
       "      <td>9%</td>\n",
       "      <td>97%</td>\n",
       "      <td>Multiple Indicator Cluster Survey</td>\n",
       "      <td>2012</td>\n",
       "    </tr>\n",
       "  </tbody>\n",
       "</table>\n",
       "</div>"
      ],
      "text/plain": [
       "  ISO3 Countries and areas Region Sub-region              Income Group Total  \\\n",
       "0  AGO              Angola    SSA        ESA  Lower middle income (LM)   15%   \n",
       "1  ARG           Argentina    LAC        LAC  Upper middle income (UM)   39%   \n",
       "2  ARM             Armenia    ECA       EECA  Upper middle income (UM)   81%   \n",
       "3  BGD          Bangladesh     SA         SA  Lower middle income (LM)   34%   \n",
       "4  BRB            Barbados    LAC        LAC           High income (H)   63%   \n",
       "\n",
       "  Rural (Residence) Urban (Residence) Poorest (Wealth quintile)  \\\n",
       "0                2%               22%                        0%   \n",
       "1               NaN               NaN                       NaN   \n",
       "2               69%               89%                       46%   \n",
       "3               30%               49%                        7%   \n",
       "4               54%               68%                        9%   \n",
       "\n",
       "  Richest (Wealth quintile)                        Data source Time period  \n",
       "0                       61%      Demographic and Health Survey     2015-16  \n",
       "1                       NaN  Multiple Indicator Cluster Survey     2011-12  \n",
       "2                       99%      Demographic and Health Survey     2015-16  \n",
       "3                       75%  Multiple Indicator Cluster Survey        2019  \n",
       "4                       97%  Multiple Indicator Cluster Survey        2012  "
      ]
     },
     "execution_count": 6,
     "metadata": {},
     "output_type": "execute_result"
    }
   ],
   "source": [
    "primary_df.head()"
   ]
  },
  {
   "cell_type": "code",
   "execution_count": 7,
   "metadata": {
    "scrolled": true
   },
   "outputs": [
    {
     "data": {
      "text/html": [
       "<div>\n",
       "<style scoped>\n",
       "    .dataframe tbody tr th:only-of-type {\n",
       "        vertical-align: middle;\n",
       "    }\n",
       "\n",
       "    .dataframe tbody tr th {\n",
       "        vertical-align: top;\n",
       "    }\n",
       "\n",
       "    .dataframe thead th {\n",
       "        text-align: right;\n",
       "    }\n",
       "</style>\n",
       "<table border=\"1\" class=\"dataframe\">\n",
       "  <thead>\n",
       "    <tr style=\"text-align: right;\">\n",
       "      <th></th>\n",
       "      <th>ISO3</th>\n",
       "      <th>Countries and areas</th>\n",
       "      <th>Region</th>\n",
       "      <th>Sub-region</th>\n",
       "      <th>Income Group</th>\n",
       "      <th>Total</th>\n",
       "      <th>Rural (Residence)</th>\n",
       "      <th>Urban (Residence)</th>\n",
       "      <th>Poorest (Wealth quintile)</th>\n",
       "      <th>Richest (Wealth quintile)</th>\n",
       "      <th>Data source</th>\n",
       "      <th>Time period</th>\n",
       "    </tr>\n",
       "  </thead>\n",
       "  <tbody>\n",
       "    <tr>\n",
       "      <th>0</th>\n",
       "      <td>AGOA</td>\n",
       "      <td>Angola</td>\n",
       "      <td>SSA</td>\n",
       "      <td>ESA</td>\n",
       "      <td>Lower middle income (LM)</td>\n",
       "      <td>24%</td>\n",
       "      <td>2%</td>\n",
       "      <td>33%</td>\n",
       "      <td>0%</td>\n",
       "      <td>69%</td>\n",
       "      <td>Demographic and Health Survey</td>\n",
       "      <td>2015-16</td>\n",
       "    </tr>\n",
       "    <tr>\n",
       "      <th>1</th>\n",
       "      <td>ARG</td>\n",
       "      <td>Argentina</td>\n",
       "      <td>LAC</td>\n",
       "      <td>LAC</td>\n",
       "      <td>Upper middle income (UM)</td>\n",
       "      <td>45%</td>\n",
       "      <td>NaN</td>\n",
       "      <td>NaN</td>\n",
       "      <td>NaN</td>\n",
       "      <td>NaN</td>\n",
       "      <td>Multiple Indicator Cluster Survey</td>\n",
       "      <td>2011-12</td>\n",
       "    </tr>\n",
       "    <tr>\n",
       "      <th>2</th>\n",
       "      <td>ARM</td>\n",
       "      <td>Armenia</td>\n",
       "      <td>ECA</td>\n",
       "      <td>EECA</td>\n",
       "      <td>Upper middle income (UM)</td>\n",
       "      <td>85%</td>\n",
       "      <td>78%</td>\n",
       "      <td>91%</td>\n",
       "      <td>54%</td>\n",
       "      <td>100%</td>\n",
       "      <td>Demographic and Health Survey</td>\n",
       "      <td>2015-16</td>\n",
       "    </tr>\n",
       "    <tr>\n",
       "      <th>3</th>\n",
       "      <td>BGD</td>\n",
       "      <td>Bangladesh</td>\n",
       "      <td>SA</td>\n",
       "      <td>SA</td>\n",
       "      <td>Lower middle income (LM)</td>\n",
       "      <td>42%</td>\n",
       "      <td>38%</td>\n",
       "      <td>57%</td>\n",
       "      <td>13%</td>\n",
       "      <td>79%</td>\n",
       "      <td>Multiple Indicator Cluster Survey</td>\n",
       "      <td>2019</td>\n",
       "    </tr>\n",
       "    <tr>\n",
       "      <th>4</th>\n",
       "      <td>BRB</td>\n",
       "      <td>Barbados</td>\n",
       "      <td>LAC</td>\n",
       "      <td>LAC</td>\n",
       "      <td>High income (H)</td>\n",
       "      <td>76%</td>\n",
       "      <td>76%</td>\n",
       "      <td>76%</td>\n",
       "      <td>4%</td>\n",
       "      <td>100%</td>\n",
       "      <td>Multiple Indicator Cluster Survey</td>\n",
       "      <td>2012</td>\n",
       "    </tr>\n",
       "  </tbody>\n",
       "</table>\n",
       "</div>"
      ],
      "text/plain": [
       "   ISO3 Countries and areas Region Sub-region              Income Group Total  \\\n",
       "0  AGOA              Angola    SSA        ESA  Lower middle income (LM)   24%   \n",
       "1   ARG           Argentina    LAC        LAC  Upper middle income (UM)   45%   \n",
       "2   ARM             Armenia    ECA       EECA  Upper middle income (UM)   85%   \n",
       "3   BGD          Bangladesh     SA         SA  Lower middle income (LM)   42%   \n",
       "4   BRB            Barbados    LAC        LAC           High income (H)   76%   \n",
       "\n",
       "  Rural (Residence) Urban (Residence) Poorest (Wealth quintile)  \\\n",
       "0                2%               33%                        0%   \n",
       "1               NaN               NaN                       NaN   \n",
       "2               78%               91%                       54%   \n",
       "3               38%               57%                       13%   \n",
       "4               76%               76%                        4%   \n",
       "\n",
       "  Richest (Wealth quintile)                        Data source Time period  \n",
       "0                       69%      Demographic and Health Survey     2015-16  \n",
       "1                       NaN  Multiple Indicator Cluster Survey     2011-12  \n",
       "2                      100%      Demographic and Health Survey     2015-16  \n",
       "3                       79%  Multiple Indicator Cluster Survey        2019  \n",
       "4                      100%  Multiple Indicator Cluster Survey        2012  "
      ]
     },
     "execution_count": 7,
     "metadata": {},
     "output_type": "execute_result"
    }
   ],
   "source": [
    "secondary_df.head()"
   ]
  },
  {
   "cell_type": "code",
   "execution_count": 8,
   "metadata": {},
   "outputs": [
    {
     "data": {
      "text/html": [
       "<div>\n",
       "<style scoped>\n",
       "    .dataframe tbody tr th:only-of-type {\n",
       "        vertical-align: middle;\n",
       "    }\n",
       "\n",
       "    .dataframe tbody tr th {\n",
       "        vertical-align: top;\n",
       "    }\n",
       "\n",
       "    .dataframe thead th {\n",
       "        text-align: right;\n",
       "    }\n",
       "</style>\n",
       "<table border=\"1\" class=\"dataframe\">\n",
       "  <thead>\n",
       "    <tr style=\"text-align: right;\">\n",
       "      <th></th>\n",
       "      <th>ISO3</th>\n",
       "      <th>Countries and areas</th>\n",
       "      <th>Region</th>\n",
       "      <th>Sub-region</th>\n",
       "      <th>Income Group</th>\n",
       "      <th>Total</th>\n",
       "      <th>Rural (Residence)</th>\n",
       "      <th>Urban (Residence)</th>\n",
       "      <th>Poorest (Wealth quintile)</th>\n",
       "      <th>Richest (Wealth quintile)</th>\n",
       "      <th>Data source</th>\n",
       "      <th>Time period</th>\n",
       "    </tr>\n",
       "  </thead>\n",
       "  <tbody>\n",
       "    <tr>\n",
       "      <th>0</th>\n",
       "      <td>DZA</td>\n",
       "      <td>Algeria</td>\n",
       "      <td>MENA</td>\n",
       "      <td>MENA</td>\n",
       "      <td>Upper middle income (UM)</td>\n",
       "      <td>24%</td>\n",
       "      <td>9%</td>\n",
       "      <td>32%</td>\n",
       "      <td>1%</td>\n",
       "      <td>77%</td>\n",
       "      <td>Multiple Indicator Cluster Survey</td>\n",
       "      <td>2018-19</td>\n",
       "    </tr>\n",
       "    <tr>\n",
       "      <th>1</th>\n",
       "      <td>AGO</td>\n",
       "      <td>Angola</td>\n",
       "      <td>SSA</td>\n",
       "      <td>ESA</td>\n",
       "      <td>Lower middle income (LM)</td>\n",
       "      <td>17%</td>\n",
       "      <td>2%</td>\n",
       "      <td>24%</td>\n",
       "      <td>0%</td>\n",
       "      <td>62%</td>\n",
       "      <td>Demographic and Health Survey</td>\n",
       "      <td>2015-16</td>\n",
       "    </tr>\n",
       "    <tr>\n",
       "      <th>2</th>\n",
       "      <td>ARG</td>\n",
       "      <td>Argentina</td>\n",
       "      <td>LAC</td>\n",
       "      <td>LAC</td>\n",
       "      <td>Upper middle income (UM)</td>\n",
       "      <td>40%</td>\n",
       "      <td>NaN</td>\n",
       "      <td>NaN</td>\n",
       "      <td>NaN</td>\n",
       "      <td>NaN</td>\n",
       "      <td>Multiple Indicator Cluster Survey</td>\n",
       "      <td>2011-12</td>\n",
       "    </tr>\n",
       "    <tr>\n",
       "      <th>3</th>\n",
       "      <td>ARM</td>\n",
       "      <td>Armenia</td>\n",
       "      <td>ECA</td>\n",
       "      <td>EECA</td>\n",
       "      <td>Upper middle income (UM)</td>\n",
       "      <td>81%</td>\n",
       "      <td>71%</td>\n",
       "      <td>88%</td>\n",
       "      <td>47%</td>\n",
       "      <td>99%</td>\n",
       "      <td>Demographic and Health Survey</td>\n",
       "      <td>2015-16</td>\n",
       "    </tr>\n",
       "    <tr>\n",
       "      <th>4</th>\n",
       "      <td>BGD</td>\n",
       "      <td>Bangladesh</td>\n",
       "      <td>SA</td>\n",
       "      <td>SA</td>\n",
       "      <td>Lower middle income (LM)</td>\n",
       "      <td>37%</td>\n",
       "      <td>33%</td>\n",
       "      <td>52%</td>\n",
       "      <td>9%</td>\n",
       "      <td>76%</td>\n",
       "      <td>Multiple Indicator Cluster Survey</td>\n",
       "      <td>2019</td>\n",
       "    </tr>\n",
       "  </tbody>\n",
       "</table>\n",
       "</div>"
      ],
      "text/plain": [
       "  ISO3 Countries and areas Region Sub-region              Income Group Total  \\\n",
       "0  DZA             Algeria   MENA       MENA  Upper middle income (UM)   24%   \n",
       "1  AGO              Angola    SSA        ESA  Lower middle income (LM)   17%   \n",
       "2  ARG           Argentina    LAC        LAC  Upper middle income (UM)   40%   \n",
       "3  ARM             Armenia    ECA       EECA  Upper middle income (UM)   81%   \n",
       "4  BGD          Bangladesh     SA         SA  Lower middle income (LM)   37%   \n",
       "\n",
       "  Rural (Residence) Urban (Residence) Poorest (Wealth quintile)  \\\n",
       "0                9%               32%                        1%   \n",
       "1                2%               24%                        0%   \n",
       "2               NaN               NaN                       NaN   \n",
       "3               71%               88%                       47%   \n",
       "4               33%               52%                        9%   \n",
       "\n",
       "  Richest (Wealth quintile)                        Data source Time period  \n",
       "0                       77%  Multiple Indicator Cluster Survey     2018-19  \n",
       "1                       62%      Demographic and Health Survey     2015-16  \n",
       "2                       NaN  Multiple Indicator Cluster Survey     2011-12  \n",
       "3                       99%      Demographic and Health Survey     2015-16  \n",
       "4                       76%  Multiple Indicator Cluster Survey        2019  "
      ]
     },
     "execution_count": 8,
     "metadata": {},
     "output_type": "execute_result"
    }
   ],
   "source": [
    "total_school_age_df.head()"
   ]
  },
  {
   "cell_type": "code",
   "execution_count": 9,
   "metadata": {
    "scrolled": true
   },
   "outputs": [
    {
     "data": {
      "text/plain": [
       "Index(['ISO3', 'Countries and areas', 'Region', 'Sub-region', 'Income Group',\n",
       "       'Total', 'Rural (Residence)', 'Urban (Residence)',\n",
       "       'Poorest (Wealth quintile)', 'Richest (Wealth quintile)', 'Data source',\n",
       "       'Time period'],\n",
       "      dtype='object')"
      ]
     },
     "execution_count": 9,
     "metadata": {},
     "output_type": "execute_result"
    }
   ],
   "source": [
    "# checking columns of primary\n",
    "primary_df.columns"
   ]
  },
  {
   "cell_type": "code",
   "execution_count": 10,
   "metadata": {},
   "outputs": [
    {
     "data": {
      "text/plain": [
       "Index(['ISO3', 'Countries and areas', 'Region', 'Sub-region', 'Income Group',\n",
       "       'Total', 'Rural (Residence)', 'Urban (Residence)',\n",
       "       'Poorest (Wealth quintile)', 'Richest (Wealth quintile)', 'Data source',\n",
       "       'Time period'],\n",
       "      dtype='object')"
      ]
     },
     "execution_count": 10,
     "metadata": {},
     "output_type": "execute_result"
    }
   ],
   "source": [
    "secondary_df.columns"
   ]
  },
  {
   "cell_type": "code",
   "execution_count": 11,
   "metadata": {},
   "outputs": [
    {
     "data": {
      "text/html": [
       "<div>\n",
       "<style scoped>\n",
       "    .dataframe tbody tr th:only-of-type {\n",
       "        vertical-align: middle;\n",
       "    }\n",
       "\n",
       "    .dataframe tbody tr th {\n",
       "        vertical-align: top;\n",
       "    }\n",
       "\n",
       "    .dataframe thead th {\n",
       "        text-align: right;\n",
       "    }\n",
       "</style>\n",
       "<table border=\"1\" class=\"dataframe\">\n",
       "  <thead>\n",
       "    <tr style=\"text-align: right;\">\n",
       "      <th></th>\n",
       "      <th>ISO3</th>\n",
       "      <th>Countries and areas</th>\n",
       "      <th>Region</th>\n",
       "      <th>Sub-region</th>\n",
       "      <th>Income Group</th>\n",
       "      <th>Total</th>\n",
       "      <th>Rural (Residence)</th>\n",
       "      <th>Urban (Residence)</th>\n",
       "      <th>Poorest (Wealth quintile)</th>\n",
       "      <th>Richest (Wealth quintile)</th>\n",
       "      <th>Data source</th>\n",
       "      <th>Time period</th>\n",
       "    </tr>\n",
       "  </thead>\n",
       "  <tbody>\n",
       "    <tr>\n",
       "      <th>count</th>\n",
       "      <td>87</td>\n",
       "      <td>87</td>\n",
       "      <td>87</td>\n",
       "      <td>87</td>\n",
       "      <td>87</td>\n",
       "      <td>87</td>\n",
       "      <td>76</td>\n",
       "      <td>79</td>\n",
       "      <td>69</td>\n",
       "      <td>66</td>\n",
       "      <td>87</td>\n",
       "      <td>87</td>\n",
       "    </tr>\n",
       "    <tr>\n",
       "      <th>unique</th>\n",
       "      <td>87</td>\n",
       "      <td>87</td>\n",
       "      <td>6</td>\n",
       "      <td>8</td>\n",
       "      <td>4</td>\n",
       "      <td>55</td>\n",
       "      <td>41</td>\n",
       "      <td>54</td>\n",
       "      <td>33</td>\n",
       "      <td>44</td>\n",
       "      <td>27</td>\n",
       "      <td>21</td>\n",
       "    </tr>\n",
       "    <tr>\n",
       "      <th>top</th>\n",
       "      <td>SRB</td>\n",
       "      <td>Brazil</td>\n",
       "      <td>SSA</td>\n",
       "      <td>LAC</td>\n",
       "      <td>Upper middle income (UM)</td>\n",
       "      <td>3%</td>\n",
       "      <td>1%</td>\n",
       "      <td>74%</td>\n",
       "      <td>0%</td>\n",
       "      <td>99%</td>\n",
       "      <td>Multiple Indicator Cluster Survey</td>\n",
       "      <td>2018</td>\n",
       "    </tr>\n",
       "    <tr>\n",
       "      <th>freq</th>\n",
       "      <td>1</td>\n",
       "      <td>1</td>\n",
       "      <td>31</td>\n",
       "      <td>20</td>\n",
       "      <td>31</td>\n",
       "      <td>5</td>\n",
       "      <td>11</td>\n",
       "      <td>4</td>\n",
       "      <td>25</td>\n",
       "      <td>5</td>\n",
       "      <td>44</td>\n",
       "      <td>17</td>\n",
       "    </tr>\n",
       "  </tbody>\n",
       "</table>\n",
       "</div>"
      ],
      "text/plain": [
       "       ISO3 Countries and areas Region Sub-region              Income Group  \\\n",
       "count    87                  87     87         87                        87   \n",
       "unique   87                  87      6          8                         4   \n",
       "top     SRB              Brazil    SSA        LAC  Upper middle income (UM)   \n",
       "freq      1                   1     31         20                        31   \n",
       "\n",
       "       Total Rural (Residence) Urban (Residence) Poorest (Wealth quintile)  \\\n",
       "count     87                76                79                        69   \n",
       "unique    55                41                54                        33   \n",
       "top       3%                1%               74%                        0%   \n",
       "freq       5                11                 4                        25   \n",
       "\n",
       "       Richest (Wealth quintile)                        Data source  \\\n",
       "count                         66                                 87   \n",
       "unique                        44                                 27   \n",
       "top                          99%  Multiple Indicator Cluster Survey   \n",
       "freq                           5                                 44   \n",
       "\n",
       "       Time period  \n",
       "count           87  \n",
       "unique          21  \n",
       "top           2018  \n",
       "freq            17  "
      ]
     },
     "execution_count": 11,
     "metadata": {},
     "output_type": "execute_result"
    }
   ],
   "source": [
    "primary_df.describe()"
   ]
  },
  {
   "cell_type": "code",
   "execution_count": 12,
   "metadata": {},
   "outputs": [
    {
     "data": {
      "text/plain": [
       "0     False\n",
       "1     False\n",
       "2     False\n",
       "3     False\n",
       "4     False\n",
       "      ...  \n",
       "82    False\n",
       "83    False\n",
       "84    False\n",
       "85    False\n",
       "86    False\n",
       "Length: 87, dtype: bool"
      ]
     },
     "execution_count": 12,
     "metadata": {},
     "output_type": "execute_result"
    }
   ],
   "source": [
    "primary_df.duplicated()"
   ]
  },
  {
   "cell_type": "code",
   "execution_count": 13,
   "metadata": {},
   "outputs": [
    {
     "data": {
      "text/plain": [
       "ISO3                         object\n",
       "Countries and areas          object\n",
       "Region                       object\n",
       "Sub-region                   object\n",
       "Income Group                 object\n",
       "Total                        object\n",
       "Rural (Residence)            object\n",
       "Urban (Residence)            object\n",
       "Poorest (Wealth quintile)    object\n",
       "Richest (Wealth quintile)    object\n",
       "Data source                  object\n",
       "Time period                  object\n",
       "dtype: object"
      ]
     },
     "execution_count": 13,
     "metadata": {},
     "output_type": "execute_result"
    }
   ],
   "source": [
    "# altough thre are duplicated elements the function returns false, and form above describe functions its is\n",
    "# seen that every this is treated unique because everything is stored as object\n",
    "primary_df.dtypes"
   ]
  },
  {
   "cell_type": "code",
   "execution_count": 14,
   "metadata": {
    "scrolled": true
   },
   "outputs": [
    {
     "data": {
      "text/plain": [
       "ISO3                         object\n",
       "Countries and areas          object\n",
       "Region                       object\n",
       "Sub-region                   object\n",
       "Income Group                 object\n",
       "Total                        object\n",
       "Rural (Residence)            object\n",
       "Urban (Residence)            object\n",
       "Poorest (Wealth quintile)    object\n",
       "Richest (Wealth quintile)    object\n",
       "Data source                  object\n",
       "Time period                  object\n",
       "dtype: object"
      ]
     },
     "execution_count": 14,
     "metadata": {},
     "output_type": "execute_result"
    }
   ],
   "source": [
    "# similary in secondary_df \n",
    "secondary_df.dtypes"
   ]
  },
  {
   "cell_type": "code",
   "execution_count": 15,
   "metadata": {
    "scrolled": true
   },
   "outputs": [
    {
     "data": {
      "text/html": [
       "<div>\n",
       "<style scoped>\n",
       "    .dataframe tbody tr th:only-of-type {\n",
       "        vertical-align: middle;\n",
       "    }\n",
       "\n",
       "    .dataframe tbody tr th {\n",
       "        vertical-align: top;\n",
       "    }\n",
       "\n",
       "    .dataframe thead th {\n",
       "        text-align: right;\n",
       "    }\n",
       "</style>\n",
       "<table border=\"1\" class=\"dataframe\">\n",
       "  <thead>\n",
       "    <tr style=\"text-align: right;\">\n",
       "      <th></th>\n",
       "      <th></th>\n",
       "      <th>ISO3</th>\n",
       "      <th>Countries and areas</th>\n",
       "      <th>Region</th>\n",
       "      <th>Sub-region</th>\n",
       "      <th>Income Group</th>\n",
       "      <th>Total</th>\n",
       "      <th>Rural (Residence)</th>\n",
       "      <th>Urban (Residence)</th>\n",
       "      <th>Poorest (Wealth quintile)</th>\n",
       "      <th>Richest (Wealth quintile)</th>\n",
       "      <th>Data source</th>\n",
       "      <th>Time period</th>\n",
       "    </tr>\n",
       "    <tr>\n",
       "      <th>Eduction level</th>\n",
       "      <th></th>\n",
       "      <th></th>\n",
       "      <th></th>\n",
       "      <th></th>\n",
       "      <th></th>\n",
       "      <th></th>\n",
       "      <th></th>\n",
       "      <th></th>\n",
       "      <th></th>\n",
       "      <th></th>\n",
       "      <th></th>\n",
       "      <th></th>\n",
       "      <th></th>\n",
       "    </tr>\n",
       "  </thead>\n",
       "  <tbody>\n",
       "    <tr>\n",
       "      <th rowspan=\"5\" valign=\"top\">Primary</th>\n",
       "      <th>0</th>\n",
       "      <td>AGO</td>\n",
       "      <td>Angola</td>\n",
       "      <td>SSA</td>\n",
       "      <td>ESA</td>\n",
       "      <td>Lower middle income (LM)</td>\n",
       "      <td>15%</td>\n",
       "      <td>2%</td>\n",
       "      <td>22%</td>\n",
       "      <td>0%</td>\n",
       "      <td>61%</td>\n",
       "      <td>Demographic and Health Survey</td>\n",
       "      <td>2015-16</td>\n",
       "    </tr>\n",
       "    <tr>\n",
       "      <th>1</th>\n",
       "      <td>ARG</td>\n",
       "      <td>Argentina</td>\n",
       "      <td>LAC</td>\n",
       "      <td>LAC</td>\n",
       "      <td>Upper middle income (UM)</td>\n",
       "      <td>39%</td>\n",
       "      <td>NaN</td>\n",
       "      <td>NaN</td>\n",
       "      <td>NaN</td>\n",
       "      <td>NaN</td>\n",
       "      <td>Multiple Indicator Cluster Survey</td>\n",
       "      <td>2011-12</td>\n",
       "    </tr>\n",
       "    <tr>\n",
       "      <th>2</th>\n",
       "      <td>ARM</td>\n",
       "      <td>Armenia</td>\n",
       "      <td>ECA</td>\n",
       "      <td>EECA</td>\n",
       "      <td>Upper middle income (UM)</td>\n",
       "      <td>81%</td>\n",
       "      <td>69%</td>\n",
       "      <td>89%</td>\n",
       "      <td>46%</td>\n",
       "      <td>99%</td>\n",
       "      <td>Demographic and Health Survey</td>\n",
       "      <td>2015-16</td>\n",
       "    </tr>\n",
       "    <tr>\n",
       "      <th>3</th>\n",
       "      <td>BGD</td>\n",
       "      <td>Bangladesh</td>\n",
       "      <td>SA</td>\n",
       "      <td>SA</td>\n",
       "      <td>Lower middle income (LM)</td>\n",
       "      <td>34%</td>\n",
       "      <td>30%</td>\n",
       "      <td>49%</td>\n",
       "      <td>7%</td>\n",
       "      <td>75%</td>\n",
       "      <td>Multiple Indicator Cluster Survey</td>\n",
       "      <td>2019</td>\n",
       "    </tr>\n",
       "    <tr>\n",
       "      <th>4</th>\n",
       "      <td>BRB</td>\n",
       "      <td>Barbados</td>\n",
       "      <td>LAC</td>\n",
       "      <td>LAC</td>\n",
       "      <td>High income (H)</td>\n",
       "      <td>63%</td>\n",
       "      <td>54%</td>\n",
       "      <td>68%</td>\n",
       "      <td>9%</td>\n",
       "      <td>97%</td>\n",
       "      <td>Multiple Indicator Cluster Survey</td>\n",
       "      <td>2012</td>\n",
       "    </tr>\n",
       "    <tr>\n",
       "      <th>...</th>\n",
       "      <th>...</th>\n",
       "      <td>...</td>\n",
       "      <td>...</td>\n",
       "      <td>...</td>\n",
       "      <td>...</td>\n",
       "      <td>...</td>\n",
       "      <td>...</td>\n",
       "      <td>...</td>\n",
       "      <td>...</td>\n",
       "      <td>...</td>\n",
       "      <td>...</td>\n",
       "      <td>...</td>\n",
       "      <td>...</td>\n",
       "    </tr>\n",
       "    <tr>\n",
       "      <th rowspan=\"5\" valign=\"top\">Secondary</th>\n",
       "      <th>77</th>\n",
       "      <td>URY</td>\n",
       "      <td>Uruguay</td>\n",
       "      <td>LAC</td>\n",
       "      <td>LAC</td>\n",
       "      <td>High income (H)</td>\n",
       "      <td>70%</td>\n",
       "      <td>48%</td>\n",
       "      <td>73%</td>\n",
       "      <td>53%</td>\n",
       "      <td>NaN</td>\n",
       "      <td>Multiple Indicator Cluster Survey</td>\n",
       "      <td>2012-99</td>\n",
       "    </tr>\n",
       "    <tr>\n",
       "      <th>78</th>\n",
       "      <td>UZB</td>\n",
       "      <td>Uzbekistan</td>\n",
       "      <td>ECA</td>\n",
       "      <td>EECA</td>\n",
       "      <td>Lower middle income (LM)</td>\n",
       "      <td>22%</td>\n",
       "      <td>17%</td>\n",
       "      <td>38%</td>\n",
       "      <td>0%</td>\n",
       "      <td>70%</td>\n",
       "      <td>UNICEF Nutrition Survey 2017</td>\n",
       "      <td>2017</td>\n",
       "    </tr>\n",
       "    <tr>\n",
       "      <th>79</th>\n",
       "      <td>VNM</td>\n",
       "      <td>Viet Nam</td>\n",
       "      <td>EAP</td>\n",
       "      <td>EAP</td>\n",
       "      <td>Lower middle income (LM)</td>\n",
       "      <td>67%</td>\n",
       "      <td>NaN</td>\n",
       "      <td>67%</td>\n",
       "      <td>NaN</td>\n",
       "      <td>NaN</td>\n",
       "      <td>STEP Skills Measurement Household Survey 2012 ...</td>\n",
       "      <td>2012</td>\n",
       "    </tr>\n",
       "    <tr>\n",
       "      <th>80</th>\n",
       "      <td>ZMB</td>\n",
       "      <td>Zambia</td>\n",
       "      <td>SSA</td>\n",
       "      <td>ESA</td>\n",
       "      <td>Lower middle income (LM)</td>\n",
       "      <td>7%</td>\n",
       "      <td>3%</td>\n",
       "      <td>14%</td>\n",
       "      <td>0%</td>\n",
       "      <td>28%</td>\n",
       "      <td>Demographic and Health Survey</td>\n",
       "      <td>2018-19</td>\n",
       "    </tr>\n",
       "    <tr>\n",
       "      <th>81</th>\n",
       "      <td>ZWE</td>\n",
       "      <td>Zimbabwe</td>\n",
       "      <td>SSA</td>\n",
       "      <td>ESA</td>\n",
       "      <td>Lower middle income (LM)</td>\n",
       "      <td>29%</td>\n",
       "      <td>20%</td>\n",
       "      <td>51%</td>\n",
       "      <td>5%</td>\n",
       "      <td>64%</td>\n",
       "      <td>Multiple Indicator Cluster Survey</td>\n",
       "      <td>2018-19</td>\n",
       "    </tr>\n",
       "  </tbody>\n",
       "</table>\n",
       "<p>169 rows × 12 columns</p>\n",
       "</div>"
      ],
      "text/plain": [
       "                  ISO3 Countries and areas Region Sub-region  \\\n",
       "Eduction level                                                 \n",
       "Primary        0   AGO              Angola    SSA        ESA   \n",
       "               1   ARG           Argentina    LAC        LAC   \n",
       "               2   ARM             Armenia    ECA       EECA   \n",
       "               3   BGD          Bangladesh     SA         SA   \n",
       "               4   BRB            Barbados    LAC        LAC   \n",
       "...                ...                 ...    ...        ...   \n",
       "Secondary      77  URY             Uruguay    LAC        LAC   \n",
       "               78  UZB          Uzbekistan    ECA       EECA   \n",
       "               79  VNM            Viet Nam    EAP        EAP   \n",
       "               80  ZMB              Zambia    SSA        ESA   \n",
       "               81  ZWE            Zimbabwe    SSA        ESA   \n",
       "\n",
       "                               Income Group Total Rural (Residence)  \\\n",
       "Eduction level                                                        \n",
       "Primary        0   Lower middle income (LM)   15%                2%   \n",
       "               1   Upper middle income (UM)   39%               NaN   \n",
       "               2   Upper middle income (UM)   81%               69%   \n",
       "               3   Lower middle income (LM)   34%               30%   \n",
       "               4            High income (H)   63%               54%   \n",
       "...                                     ...   ...               ...   \n",
       "Secondary      77           High income (H)   70%               48%   \n",
       "               78  Lower middle income (LM)   22%               17%   \n",
       "               79  Lower middle income (LM)   67%               NaN   \n",
       "               80  Lower middle income (LM)    7%                3%   \n",
       "               81  Lower middle income (LM)   29%               20%   \n",
       "\n",
       "                  Urban (Residence) Poorest (Wealth quintile)  \\\n",
       "Eduction level                                                  \n",
       "Primary        0                22%                        0%   \n",
       "               1                NaN                       NaN   \n",
       "               2                89%                       46%   \n",
       "               3                49%                        7%   \n",
       "               4                68%                        9%   \n",
       "...                             ...                       ...   \n",
       "Secondary      77               73%                       53%   \n",
       "               78               38%                        0%   \n",
       "               79               67%                       NaN   \n",
       "               80               14%                        0%   \n",
       "               81               51%                        5%   \n",
       "\n",
       "                  Richest (Wealth quintile)  \\\n",
       "Eduction level                                \n",
       "Primary        0                        61%   \n",
       "               1                        NaN   \n",
       "               2                        99%   \n",
       "               3                        75%   \n",
       "               4                        97%   \n",
       "...                                     ...   \n",
       "Secondary      77                       NaN   \n",
       "               78                       70%   \n",
       "               79                       NaN   \n",
       "               80                       28%   \n",
       "               81                       64%   \n",
       "\n",
       "                                                         Data source  \\\n",
       "Eduction level                                                         \n",
       "Primary        0                       Demographic and Health Survey   \n",
       "               1                   Multiple Indicator Cluster Survey   \n",
       "               2                       Demographic and Health Survey   \n",
       "               3                   Multiple Indicator Cluster Survey   \n",
       "               4                   Multiple Indicator Cluster Survey   \n",
       "...                                                              ...   \n",
       "Secondary      77                  Multiple Indicator Cluster Survey   \n",
       "               78                       UNICEF Nutrition Survey 2017   \n",
       "               79  STEP Skills Measurement Household Survey 2012 ...   \n",
       "               80                      Demographic and Health Survey   \n",
       "               81                  Multiple Indicator Cluster Survey   \n",
       "\n",
       "                  Time period  \n",
       "Eduction level                 \n",
       "Primary        0      2015-16  \n",
       "               1      2011-12  \n",
       "               2      2015-16  \n",
       "               3         2019  \n",
       "               4         2012  \n",
       "...                       ...  \n",
       "Secondary      77     2012-99  \n",
       "               78        2017  \n",
       "               79        2012  \n",
       "               80     2018-19  \n",
       "               81     2018-19  \n",
       "\n",
       "[169 rows x 12 columns]"
      ]
     },
     "execution_count": 15,
     "metadata": {},
     "output_type": "execute_result"
    }
   ],
   "source": [
    "# before cleaning\n",
    "\n",
    "# as primary_df and secondary_df are almost similary in columns and only try to represend different education levels\n",
    "# we can store them in single file with new column to identify the level of education. This can be helpful in Task 2 as well\n",
    "\n",
    "# keys help in sepereating two slevels of education.\n",
    "combined_school = pd.concat([primary_df,secondary_df],keys=['Primary','Secondary'],names=['Eduction level', None])\n",
    "\n",
    "combined_school"
   ]
  },
  {
   "cell_type": "code",
   "execution_count": 16,
   "metadata": {},
   "outputs": [
    {
     "data": {
      "text/plain": [
       "ISO3                         object\n",
       "Countries and areas          object\n",
       "Region                       object\n",
       "Sub-region                   object\n",
       "Income Group                 object\n",
       "Total                        object\n",
       "Rural (Residence)            object\n",
       "Urban (Residence)            object\n",
       "Poorest (Wealth quintile)    object\n",
       "Richest (Wealth quintile)    object\n",
       "Data source                  object\n",
       "Time period                  object\n",
       "dtype: object"
      ]
     },
     "execution_count": 16,
     "metadata": {},
     "output_type": "execute_result"
    }
   ],
   "source": [
    "# everything is object here as well\n",
    "combined_school.dtypes"
   ]
  },
  {
   "cell_type": "code",
   "execution_count": 17,
   "metadata": {},
   "outputs": [],
   "source": [
    "# data retriving - the above df has fileds, which we are not using. so cleaing them is not needed.\n",
    "# thus slicing only needed or important features\n",
    "\n",
    "needed_combined_school = combined_school.loc[:,\"Countries and areas\":\"Total\"]"
   ]
  },
  {
   "cell_type": "code",
   "execution_count": 18,
   "metadata": {},
   "outputs": [
    {
     "data": {
      "text/html": [
       "<div>\n",
       "<style scoped>\n",
       "    .dataframe tbody tr th:only-of-type {\n",
       "        vertical-align: middle;\n",
       "    }\n",
       "\n",
       "    .dataframe tbody tr th {\n",
       "        vertical-align: top;\n",
       "    }\n",
       "\n",
       "    .dataframe thead th {\n",
       "        text-align: right;\n",
       "    }\n",
       "</style>\n",
       "<table border=\"1\" class=\"dataframe\">\n",
       "  <thead>\n",
       "    <tr style=\"text-align: right;\">\n",
       "      <th></th>\n",
       "      <th></th>\n",
       "      <th>Countries and areas</th>\n",
       "      <th>Region</th>\n",
       "      <th>Sub-region</th>\n",
       "      <th>Income Group</th>\n",
       "      <th>Total</th>\n",
       "    </tr>\n",
       "    <tr>\n",
       "      <th>Eduction level</th>\n",
       "      <th></th>\n",
       "      <th></th>\n",
       "      <th></th>\n",
       "      <th></th>\n",
       "      <th></th>\n",
       "      <th></th>\n",
       "    </tr>\n",
       "  </thead>\n",
       "  <tbody>\n",
       "    <tr>\n",
       "      <th rowspan=\"5\" valign=\"top\">Primary</th>\n",
       "      <th>0</th>\n",
       "      <td>Angola</td>\n",
       "      <td>SSA</td>\n",
       "      <td>ESA</td>\n",
       "      <td>Lower middle income (LM)</td>\n",
       "      <td>15%</td>\n",
       "    </tr>\n",
       "    <tr>\n",
       "      <th>1</th>\n",
       "      <td>Argentina</td>\n",
       "      <td>LAC</td>\n",
       "      <td>LAC</td>\n",
       "      <td>Upper middle income (UM)</td>\n",
       "      <td>39%</td>\n",
       "    </tr>\n",
       "    <tr>\n",
       "      <th>2</th>\n",
       "      <td>Armenia</td>\n",
       "      <td>ECA</td>\n",
       "      <td>EECA</td>\n",
       "      <td>Upper middle income (UM)</td>\n",
       "      <td>81%</td>\n",
       "    </tr>\n",
       "    <tr>\n",
       "      <th>3</th>\n",
       "      <td>Bangladesh</td>\n",
       "      <td>SA</td>\n",
       "      <td>SA</td>\n",
       "      <td>Lower middle income (LM)</td>\n",
       "      <td>34%</td>\n",
       "    </tr>\n",
       "    <tr>\n",
       "      <th>4</th>\n",
       "      <td>Barbados</td>\n",
       "      <td>LAC</td>\n",
       "      <td>LAC</td>\n",
       "      <td>High income (H)</td>\n",
       "      <td>63%</td>\n",
       "    </tr>\n",
       "    <tr>\n",
       "      <th>...</th>\n",
       "      <th>...</th>\n",
       "      <td>...</td>\n",
       "      <td>...</td>\n",
       "      <td>...</td>\n",
       "      <td>...</td>\n",
       "      <td>...</td>\n",
       "    </tr>\n",
       "    <tr>\n",
       "      <th rowspan=\"5\" valign=\"top\">Secondary</th>\n",
       "      <th>77</th>\n",
       "      <td>Uruguay</td>\n",
       "      <td>LAC</td>\n",
       "      <td>LAC</td>\n",
       "      <td>High income (H)</td>\n",
       "      <td>70%</td>\n",
       "    </tr>\n",
       "    <tr>\n",
       "      <th>78</th>\n",
       "      <td>Uzbekistan</td>\n",
       "      <td>ECA</td>\n",
       "      <td>EECA</td>\n",
       "      <td>Lower middle income (LM)</td>\n",
       "      <td>22%</td>\n",
       "    </tr>\n",
       "    <tr>\n",
       "      <th>79</th>\n",
       "      <td>Viet Nam</td>\n",
       "      <td>EAP</td>\n",
       "      <td>EAP</td>\n",
       "      <td>Lower middle income (LM)</td>\n",
       "      <td>67%</td>\n",
       "    </tr>\n",
       "    <tr>\n",
       "      <th>80</th>\n",
       "      <td>Zambia</td>\n",
       "      <td>SSA</td>\n",
       "      <td>ESA</td>\n",
       "      <td>Lower middle income (LM)</td>\n",
       "      <td>7%</td>\n",
       "    </tr>\n",
       "    <tr>\n",
       "      <th>81</th>\n",
       "      <td>Zimbabwe</td>\n",
       "      <td>SSA</td>\n",
       "      <td>ESA</td>\n",
       "      <td>Lower middle income (LM)</td>\n",
       "      <td>29%</td>\n",
       "    </tr>\n",
       "  </tbody>\n",
       "</table>\n",
       "<p>169 rows × 5 columns</p>\n",
       "</div>"
      ],
      "text/plain": [
       "                  Countries and areas Region Sub-region  \\\n",
       "Eduction level                                            \n",
       "Primary        0               Angola    SSA        ESA   \n",
       "               1            Argentina    LAC        LAC   \n",
       "               2              Armenia    ECA       EECA   \n",
       "               3           Bangladesh     SA         SA   \n",
       "               4             Barbados    LAC        LAC   \n",
       "...                               ...    ...        ...   \n",
       "Secondary      77             Uruguay    LAC        LAC   \n",
       "               78          Uzbekistan    ECA       EECA   \n",
       "               79            Viet Nam    EAP        EAP   \n",
       "               80              Zambia    SSA        ESA   \n",
       "               81            Zimbabwe    SSA        ESA   \n",
       "\n",
       "                               Income Group Total  \n",
       "Eduction level                                     \n",
       "Primary        0   Lower middle income (LM)   15%  \n",
       "               1   Upper middle income (UM)   39%  \n",
       "               2   Upper middle income (UM)   81%  \n",
       "               3   Lower middle income (LM)   34%  \n",
       "               4            High income (H)   63%  \n",
       "...                                     ...   ...  \n",
       "Secondary      77           High income (H)   70%  \n",
       "               78  Lower middle income (LM)   22%  \n",
       "               79  Lower middle income (LM)   67%  \n",
       "               80  Lower middle income (LM)    7%  \n",
       "               81  Lower middle income (LM)   29%  \n",
       "\n",
       "[169 rows x 5 columns]"
      ]
     },
     "execution_count": 18,
     "metadata": {},
     "output_type": "execute_result"
    }
   ],
   "source": [
    "needed_combined_school # has only necessary features of both primary school and secondary school\n"
   ]
  },
  {
   "cell_type": "code",
   "execution_count": 19,
   "metadata": {},
   "outputs": [
    {
     "data": {
      "text/html": [
       "<div>\n",
       "<style scoped>\n",
       "    .dataframe tbody tr th:only-of-type {\n",
       "        vertical-align: middle;\n",
       "    }\n",
       "\n",
       "    .dataframe tbody tr th {\n",
       "        vertical-align: top;\n",
       "    }\n",
       "\n",
       "    .dataframe thead th {\n",
       "        text-align: right;\n",
       "    }\n",
       "</style>\n",
       "<table border=\"1\" class=\"dataframe\">\n",
       "  <thead>\n",
       "    <tr style=\"text-align: right;\">\n",
       "      <th></th>\n",
       "      <th></th>\n",
       "      <th>Countries and areas</th>\n",
       "      <th>Region</th>\n",
       "      <th>Sub-region</th>\n",
       "      <th>Income Group</th>\n",
       "      <th>Total</th>\n",
       "    </tr>\n",
       "    <tr>\n",
       "      <th>Eduction level</th>\n",
       "      <th></th>\n",
       "      <th></th>\n",
       "      <th></th>\n",
       "      <th></th>\n",
       "      <th></th>\n",
       "      <th></th>\n",
       "    </tr>\n",
       "  </thead>\n",
       "  <tbody>\n",
       "    <tr>\n",
       "      <th rowspan=\"5\" valign=\"top\">Primary</th>\n",
       "      <th>0</th>\n",
       "      <td>False</td>\n",
       "      <td>False</td>\n",
       "      <td>False</td>\n",
       "      <td>False</td>\n",
       "      <td>False</td>\n",
       "    </tr>\n",
       "    <tr>\n",
       "      <th>1</th>\n",
       "      <td>False</td>\n",
       "      <td>False</td>\n",
       "      <td>False</td>\n",
       "      <td>False</td>\n",
       "      <td>False</td>\n",
       "    </tr>\n",
       "    <tr>\n",
       "      <th>2</th>\n",
       "      <td>False</td>\n",
       "      <td>False</td>\n",
       "      <td>False</td>\n",
       "      <td>False</td>\n",
       "      <td>False</td>\n",
       "    </tr>\n",
       "    <tr>\n",
       "      <th>3</th>\n",
       "      <td>False</td>\n",
       "      <td>False</td>\n",
       "      <td>False</td>\n",
       "      <td>False</td>\n",
       "      <td>False</td>\n",
       "    </tr>\n",
       "    <tr>\n",
       "      <th>4</th>\n",
       "      <td>False</td>\n",
       "      <td>False</td>\n",
       "      <td>False</td>\n",
       "      <td>False</td>\n",
       "      <td>False</td>\n",
       "    </tr>\n",
       "    <tr>\n",
       "      <th>...</th>\n",
       "      <th>...</th>\n",
       "      <td>...</td>\n",
       "      <td>...</td>\n",
       "      <td>...</td>\n",
       "      <td>...</td>\n",
       "      <td>...</td>\n",
       "    </tr>\n",
       "    <tr>\n",
       "      <th rowspan=\"5\" valign=\"top\">Secondary</th>\n",
       "      <th>77</th>\n",
       "      <td>False</td>\n",
       "      <td>False</td>\n",
       "      <td>False</td>\n",
       "      <td>False</td>\n",
       "      <td>False</td>\n",
       "    </tr>\n",
       "    <tr>\n",
       "      <th>78</th>\n",
       "      <td>False</td>\n",
       "      <td>False</td>\n",
       "      <td>False</td>\n",
       "      <td>False</td>\n",
       "      <td>False</td>\n",
       "    </tr>\n",
       "    <tr>\n",
       "      <th>79</th>\n",
       "      <td>False</td>\n",
       "      <td>False</td>\n",
       "      <td>False</td>\n",
       "      <td>False</td>\n",
       "      <td>False</td>\n",
       "    </tr>\n",
       "    <tr>\n",
       "      <th>80</th>\n",
       "      <td>False</td>\n",
       "      <td>False</td>\n",
       "      <td>False</td>\n",
       "      <td>False</td>\n",
       "      <td>False</td>\n",
       "    </tr>\n",
       "    <tr>\n",
       "      <th>81</th>\n",
       "      <td>False</td>\n",
       "      <td>False</td>\n",
       "      <td>False</td>\n",
       "      <td>False</td>\n",
       "      <td>False</td>\n",
       "    </tr>\n",
       "  </tbody>\n",
       "</table>\n",
       "<p>169 rows × 5 columns</p>\n",
       "</div>"
      ],
      "text/plain": [
       "                   Countries and areas  Region  Sub-region  Income Group  \\\n",
       "Eduction level                                                             \n",
       "Primary        0                 False   False       False         False   \n",
       "               1                 False   False       False         False   \n",
       "               2                 False   False       False         False   \n",
       "               3                 False   False       False         False   \n",
       "               4                 False   False       False         False   \n",
       "...                                ...     ...         ...           ...   \n",
       "Secondary      77                False   False       False         False   \n",
       "               78                False   False       False         False   \n",
       "               79                False   False       False         False   \n",
       "               80                False   False       False         False   \n",
       "               81                False   False       False         False   \n",
       "\n",
       "                   Total  \n",
       "Eduction level            \n",
       "Primary        0   False  \n",
       "               1   False  \n",
       "               2   False  \n",
       "               3   False  \n",
       "               4   False  \n",
       "...                  ...  \n",
       "Secondary      77  False  \n",
       "               78  False  \n",
       "               79  False  \n",
       "               80  False  \n",
       "               81  False  \n",
       "\n",
       "[169 rows x 5 columns]"
      ]
     },
     "execution_count": 19,
     "metadata": {},
     "output_type": "execute_result"
    }
   ],
   "source": [
    "needed_combined_school.isna() # check for null values - o/p shows none of the featues has null"
   ]
  },
  {
   "cell_type": "code",
   "execution_count": 20,
   "metadata": {
    "scrolled": true
   },
   "outputs": [
    {
     "name": "stderr",
     "output_type": "stream",
     "text": [
      "c:\\users\\skish\\appdata\\local\\programs\\python\\python37\\lib\\site-packages\\ipykernel_launcher.py:4: SettingWithCopyWarning: \n",
      "A value is trying to be set on a copy of a slice from a DataFrame.\n",
      "Try using .loc[row_indexer,col_indexer] = value instead\n",
      "\n",
      "See the caveats in the documentation: https://pandas.pydata.org/pandas-docs/stable/user_guide/indexing.html#returning-a-view-versus-a-copy\n",
      "  after removing the cwd from sys.path.\n"
     ]
    }
   ],
   "source": [
    "# checking and converting each feature if necessary\n",
    "needed_combined_school.dtypes # Total is an object, but it Total should be a numeric value (integer)\n",
    "\n",
    "needed_combined_school[\"Total\"] = needed_combined_school[\"Total\"].str.strip(\"%\").astype(int)\n",
    "\n",
    "# fix is explained in below cell for warning"
   ]
  },
  {
   "cell_type": "code",
   "execution_count": 21,
   "metadata": {},
   "outputs": [
    {
     "data": {
      "text/plain": [
       "Countries and areas    object\n",
       "Region                 object\n",
       "Sub-region             object\n",
       "Income Group           object\n",
       "Total                   int32\n",
       "dtype: object"
      ]
     },
     "execution_count": 21,
     "metadata": {},
     "output_type": "execute_result"
    }
   ],
   "source": [
    "# even though it updates the drf, it shows settingwithcopywarning, after tyring many mehtods mentioned in stack overflow and other refrerences,\n",
    "# Try using .loc[row_indexer,col_indexer] = value (with our df details) instead also resulted in same issue\n",
    "\n",
    "#pd.set_option(\"mode.chained_assignment\", None) could be used to hide the warning\n",
    "\n",
    "# needed_combined_school[\"Total\"] = needed_combined_school[\"Total\"].str.strip(\"%\").astype(int) will now run without warning of SettingWithCopyWarning\n",
    "\n",
    "# the code in previous cell converst the type even if there is warning\n",
    "\n",
    "\n",
    "needed_combined_school.dtypes # now Total is integer"
   ]
  },
  {
   "cell_type": "code",
   "execution_count": 22,
   "metadata": {},
   "outputs": [
    {
     "data": {
      "text/plain": [
       "Upper middle income    59\n",
       "Lower middle income    58\n",
       "Low income             36\n",
       "High income            16\n",
       "Name: Income Group, dtype: int64"
      ]
     },
     "execution_count": 22,
     "metadata": {},
     "output_type": "execute_result"
    }
   ],
   "source": [
    "pd.set_option(\"mode.chained_assignment\", None)\n",
    "\n",
    "# Income group is good as object, but need the values are not neat, \n",
    "# for example: Lower middle income (LM) can only be stored eiter as Lower middle income or LM \n",
    "# I choose Lower middle income because it is more understandablwe than LM\n",
    "\n",
    "needed_combined_school[\"Income Group\"] = needed_combined_school[\"Income Group\"].str.split(\"(\").str[0].str.strip(\" \")\n",
    "\n",
    "needed_combined_school[\"Income Group\"].value_counts()"
   ]
  },
  {
   "cell_type": "code",
   "execution_count": 23,
   "metadata": {},
   "outputs": [
    {
     "data": {
      "text/plain": [
       "LAC     36\n",
       "WCA     36\n",
       "EECA    28\n",
       "ESA     26\n",
       "EAP     18\n",
       "SA      12\n",
       "MENA     9\n",
       "WE       4\n",
       "Name: Sub-region, dtype: int64"
      ]
     },
     "execution_count": 23,
     "metadata": {},
     "output_type": "execute_result"
    }
   ],
   "source": [
    "# Sub-region\n",
    "needed_combined_school[\"Sub-region\"].value_counts() # it is clean\n"
   ]
  },
  {
   "cell_type": "code",
   "execution_count": 24,
   "metadata": {},
   "outputs": [
    {
     "data": {
      "text/plain": [
       "SSA     62\n",
       "LAC     36\n",
       "ECA     32\n",
       "EAP     18\n",
       "SA      12\n",
       "MENA     9\n",
       "Name: Region, dtype: int64"
      ]
     },
     "execution_count": 24,
     "metadata": {},
     "output_type": "execute_result"
    }
   ],
   "source": [
    "# Region \n",
    "needed_combined_school[\"Region\"].value_counts() # it is clean"
   ]
  },
  {
   "cell_type": "code",
   "execution_count": 25,
   "metadata": {},
   "outputs": [
    {
     "data": {
      "text/plain": [
       "169"
      ]
     },
     "execution_count": 25,
     "metadata": {},
     "output_type": "execute_result"
    }
   ],
   "source": [
    "# Countries and areas\n",
    "needed_combined_school[\"Countries and areas\"].value_counts().sum() # suppose to have 202 as per provided readme file, has only 169 "
   ]
  },
  {
   "cell_type": "code",
   "execution_count": 26,
   "metadata": {},
   "outputs": [
    {
     "data": {
      "text/plain": [
       "Brazil                              2\n",
       "Maldives                            2\n",
       "Bulgaria                            2\n",
       "Democratic Republic of the Congo    2\n",
       "Trinidad and Tobago                 2\n",
       "                                   ..\n",
       "Ecuador                             1\n",
       "Bolivia (Plurinational State of)    1\n",
       "Egypt                               1\n",
       "Peru                                1\n",
       "Mexico                              1\n",
       "Name: Countries and areas, Length: 87, dtype: int64"
      ]
     },
     "execution_count": 26,
     "metadata": {},
     "output_type": "execute_result"
    }
   ],
   "source": [
    "# some show 2 because there are same countries in both primary.csv and secondary.csv\n",
    "# we concatinated both together\n",
    "needed_combined_school[\"Countries and areas\"].str.strip(\" \").value_counts() "
   ]
  },
  {
   "cell_type": "code",
   "execution_count": 27,
   "metadata": {},
   "outputs": [
    {
     "data": {
      "text/plain": [
       "Brazil                              2\n",
       "Maldives                            2\n",
       "Ukraine                             2\n",
       "Democratic Republic of the Congo    2\n",
       "Trinidad and Tobago                 2\n",
       "                                   ..\n",
       "Mexico                              1\n",
       "Plurinational State of Bolivia      1\n",
       "Ecuador                             1\n",
       "Peru                                1\n",
       "Egypt                               1\n",
       "Name: Countries and areas, Length: 87, dtype: int64"
      ]
     },
     "execution_count": 27,
     "metadata": {},
     "output_type": "execute_result"
    }
   ],
   "source": [
    "# Bolivia (Plurinational State of) value should be actually like Plurinational State of Bolivia, so\n",
    "\n",
    "mask = needed_combined_school[\"Countries and areas\"]==\"Bolivia (Plurinational State of)\"\n",
    "needed_combined_school.loc[mask,\"Countries and areas\"] = \"Plurinational State of Bolivia\"\n",
    "needed_combined_school[\"Countries and areas\"].str.strip(\" \").value_counts() "
   ]
  },
  {
   "cell_type": "code",
   "execution_count": 28,
   "metadata": {},
   "outputs": [
    {
     "data": {
      "text/html": [
       "<div>\n",
       "<style scoped>\n",
       "    .dataframe tbody tr th:only-of-type {\n",
       "        vertical-align: middle;\n",
       "    }\n",
       "\n",
       "    .dataframe tbody tr th {\n",
       "        vertical-align: top;\n",
       "    }\n",
       "\n",
       "    .dataframe thead th {\n",
       "        text-align: right;\n",
       "    }\n",
       "</style>\n",
       "<table border=\"1\" class=\"dataframe\">\n",
       "  <thead>\n",
       "    <tr style=\"text-align: right;\">\n",
       "      <th></th>\n",
       "      <th></th>\n",
       "      <th>Countries and areas</th>\n",
       "      <th>Region</th>\n",
       "      <th>Sub-region</th>\n",
       "      <th>Income Group</th>\n",
       "      <th>Total</th>\n",
       "    </tr>\n",
       "    <tr>\n",
       "      <th>Eduction level</th>\n",
       "      <th></th>\n",
       "      <th></th>\n",
       "      <th></th>\n",
       "      <th></th>\n",
       "      <th></th>\n",
       "      <th></th>\n",
       "    </tr>\n",
       "  </thead>\n",
       "  <tbody>\n",
       "    <tr>\n",
       "      <th>Primary</th>\n",
       "      <th>6</th>\n",
       "      <td>Plurinational State of Bolivia</td>\n",
       "      <td>LAC</td>\n",
       "      <td>LAC</td>\n",
       "      <td>Lower middle income</td>\n",
       "      <td>11</td>\n",
       "    </tr>\n",
       "  </tbody>\n",
       "</table>\n",
       "</div>"
      ],
      "text/plain": [
       "                             Countries and areas Region Sub-region  \\\n",
       "Eduction level                                                       \n",
       "Primary        6  Plurinational State of Bolivia    LAC        LAC   \n",
       "\n",
       "                         Income Group  Total  \n",
       "Eduction level                                \n",
       "Primary        6  Lower middle income     11  "
      ]
     },
     "execution_count": 28,
     "metadata": {},
     "output_type": "execute_result"
    }
   ],
   "source": [
    "needed_combined_school[needed_combined_school[\"Countries and areas\"]==\"Plurinational State of Bolivia\"]"
   ]
  },
  {
   "cell_type": "code",
   "execution_count": 29,
   "metadata": {},
   "outputs": [
    {
     "data": {
      "text/html": [
       "<div>\n",
       "<style scoped>\n",
       "    .dataframe tbody tr th:only-of-type {\n",
       "        vertical-align: middle;\n",
       "    }\n",
       "\n",
       "    .dataframe tbody tr th {\n",
       "        vertical-align: top;\n",
       "    }\n",
       "\n",
       "    .dataframe thead th {\n",
       "        text-align: right;\n",
       "    }\n",
       "</style>\n",
       "<table border=\"1\" class=\"dataframe\">\n",
       "  <thead>\n",
       "    <tr style=\"text-align: right;\">\n",
       "      <th></th>\n",
       "      <th></th>\n",
       "      <th>Countries and areas</th>\n",
       "      <th>Region</th>\n",
       "      <th>Sub-region</th>\n",
       "      <th>Income Group</th>\n",
       "      <th>Total</th>\n",
       "    </tr>\n",
       "    <tr>\n",
       "      <th>Eduction level</th>\n",
       "      <th></th>\n",
       "      <th></th>\n",
       "      <th></th>\n",
       "      <th></th>\n",
       "      <th></th>\n",
       "      <th></th>\n",
       "    </tr>\n",
       "  </thead>\n",
       "  <tbody>\n",
       "  </tbody>\n",
       "</table>\n",
       "</div>"
      ],
      "text/plain": [
       "Empty DataFrame\n",
       "Columns: [Countries and areas, Region, Sub-region, Income Group, Total]\n",
       "Index: []"
      ]
     },
     "execution_count": 29,
     "metadata": {},
     "output_type": "execute_result"
    }
   ],
   "source": [
    "# checking if any total perecntage is less than 0 - found none\n",
    "needed_combined_school[needed_combined_school[\"Total\"]<0]\n"
   ]
  },
  {
   "cell_type": "code",
   "execution_count": 30,
   "metadata": {},
   "outputs": [
    {
     "data": {
      "text/html": [
       "<div>\n",
       "<style scoped>\n",
       "    .dataframe tbody tr th:only-of-type {\n",
       "        vertical-align: middle;\n",
       "    }\n",
       "\n",
       "    .dataframe tbody tr th {\n",
       "        vertical-align: top;\n",
       "    }\n",
       "\n",
       "    .dataframe thead th {\n",
       "        text-align: right;\n",
       "    }\n",
       "</style>\n",
       "<table border=\"1\" class=\"dataframe\">\n",
       "  <thead>\n",
       "    <tr style=\"text-align: right;\">\n",
       "      <th></th>\n",
       "      <th></th>\n",
       "      <th>Countries and areas</th>\n",
       "      <th>Region</th>\n",
       "      <th>Sub-region</th>\n",
       "      <th>Income Group</th>\n",
       "      <th>Total</th>\n",
       "    </tr>\n",
       "    <tr>\n",
       "      <th>Eduction level</th>\n",
       "      <th></th>\n",
       "      <th></th>\n",
       "      <th></th>\n",
       "      <th></th>\n",
       "      <th></th>\n",
       "      <th></th>\n",
       "    </tr>\n",
       "  </thead>\n",
       "  <tbody>\n",
       "    <tr>\n",
       "      <th>Secondary</th>\n",
       "      <th>75</th>\n",
       "      <td>Ukraine</td>\n",
       "      <td>ECA</td>\n",
       "      <td>EECA</td>\n",
       "      <td>Lower middle income</td>\n",
       "      <td>179</td>\n",
       "    </tr>\n",
       "  </tbody>\n",
       "</table>\n",
       "</div>"
      ],
      "text/plain": [
       "                  Countries and areas Region Sub-region         Income Group  \\\n",
       "Eduction level                                                                 \n",
       "Secondary      75             Ukraine    ECA       EECA  Lower middle income   \n",
       "\n",
       "                   Total  \n",
       "Eduction level            \n",
       "Secondary      75    179  "
      ]
     },
     "execution_count": 30,
     "metadata": {},
     "output_type": "execute_result"
    }
   ],
   "source": [
    "# checking if any total perecntage is more than 100 - Found one \n",
    "needed_combined_school[needed_combined_school[\"Total\"]>100]"
   ]
  },
  {
   "cell_type": "code",
   "execution_count": 31,
   "metadata": {},
   "outputs": [],
   "source": [
    "# replace values greater than 100 with NaN\n",
    "needed_combined_school.loc[needed_combined_school['Total'] > 100,\"Total\"] = np.nan"
   ]
  },
  {
   "cell_type": "code",
   "execution_count": 32,
   "metadata": {},
   "outputs": [
    {
     "data": {
      "text/html": [
       "<div>\n",
       "<style scoped>\n",
       "    .dataframe tbody tr th:only-of-type {\n",
       "        vertical-align: middle;\n",
       "    }\n",
       "\n",
       "    .dataframe tbody tr th {\n",
       "        vertical-align: top;\n",
       "    }\n",
       "\n",
       "    .dataframe thead th {\n",
       "        text-align: right;\n",
       "    }\n",
       "</style>\n",
       "<table border=\"1\" class=\"dataframe\">\n",
       "  <thead>\n",
       "    <tr style=\"text-align: right;\">\n",
       "      <th></th>\n",
       "      <th></th>\n",
       "      <th>Countries and areas</th>\n",
       "      <th>Region</th>\n",
       "      <th>Sub-region</th>\n",
       "      <th>Income Group</th>\n",
       "      <th>Total</th>\n",
       "    </tr>\n",
       "    <tr>\n",
       "      <th>Eduction level</th>\n",
       "      <th></th>\n",
       "      <th></th>\n",
       "      <th></th>\n",
       "      <th></th>\n",
       "      <th></th>\n",
       "      <th></th>\n",
       "    </tr>\n",
       "  </thead>\n",
       "  <tbody>\n",
       "  </tbody>\n",
       "</table>\n",
       "</div>"
      ],
      "text/plain": [
       "Empty DataFrame\n",
       "Columns: [Countries and areas, Region, Sub-region, Income Group, Total]\n",
       "Index: []"
      ]
     },
     "execution_count": 32,
     "metadata": {},
     "output_type": "execute_result"
    }
   ],
   "source": [
    "# checking again\n",
    "needed_combined_school[needed_combined_school[\"Total\"]>100] # found none"
   ]
  },
  {
   "cell_type": "code",
   "execution_count": 33,
   "metadata": {},
   "outputs": [
    {
     "data": {
      "text/html": [
       "<div>\n",
       "<style scoped>\n",
       "    .dataframe tbody tr th:only-of-type {\n",
       "        vertical-align: middle;\n",
       "    }\n",
       "\n",
       "    .dataframe tbody tr th {\n",
       "        vertical-align: top;\n",
       "    }\n",
       "\n",
       "    .dataframe thead th {\n",
       "        text-align: right;\n",
       "    }\n",
       "</style>\n",
       "<table border=\"1\" class=\"dataframe\">\n",
       "  <thead>\n",
       "    <tr style=\"text-align: right;\">\n",
       "      <th></th>\n",
       "      <th></th>\n",
       "      <th>Countries and areas</th>\n",
       "      <th>Region</th>\n",
       "      <th>Sub-region</th>\n",
       "      <th>Income Group</th>\n",
       "      <th>Total</th>\n",
       "    </tr>\n",
       "    <tr>\n",
       "      <th>Eduction level</th>\n",
       "      <th></th>\n",
       "      <th></th>\n",
       "      <th></th>\n",
       "      <th></th>\n",
       "      <th></th>\n",
       "      <th></th>\n",
       "    </tr>\n",
       "  </thead>\n",
       "  <tbody>\n",
       "    <tr>\n",
       "      <th>Primary</th>\n",
       "      <th>80</th>\n",
       "      <td>Ukraine</td>\n",
       "      <td>ECA</td>\n",
       "      <td>EECA</td>\n",
       "      <td>Lower middle income</td>\n",
       "      <td>73.0</td>\n",
       "    </tr>\n",
       "    <tr>\n",
       "      <th>Secondary</th>\n",
       "      <th>75</th>\n",
       "      <td>Ukraine</td>\n",
       "      <td>ECA</td>\n",
       "      <td>EECA</td>\n",
       "      <td>Lower middle income</td>\n",
       "      <td>NaN</td>\n",
       "    </tr>\n",
       "  </tbody>\n",
       "</table>\n",
       "</div>"
      ],
      "text/plain": [
       "                  Countries and areas Region Sub-region         Income Group  \\\n",
       "Eduction level                                                                 \n",
       "Primary        80             Ukraine    ECA       EECA  Lower middle income   \n",
       "Secondary      75             Ukraine    ECA       EECA  Lower middle income   \n",
       "\n",
       "                   Total  \n",
       "Eduction level            \n",
       "Primary        80   73.0  \n",
       "Secondary      75    NaN  "
      ]
     },
     "execution_count": 33,
     "metadata": {},
     "output_type": "execute_result"
    }
   ],
   "source": [
    "needed_combined_school[needed_combined_school[\"Countries and areas\"] == \"Ukraine\"] # filled with NaN"
   ]
  },
  {
   "cell_type": "code",
   "execution_count": 34,
   "metadata": {},
   "outputs": [],
   "source": [
    "# save the cleaned dataset to a new CSV file\n",
    "# not saving inside data folder, but directly at root\n",
    "needed_combined_school.to_csv('cleaned_combined_school.csv', index=False)"
   ]
  },
  {
   "cell_type": "code",
   "execution_count": 35,
   "metadata": {},
   "outputs": [],
   "source": [
    "# now cleaning total_school_age_df which will be used for 2.2\n",
    "\n",
    "# need only country and areas, Income Group, Total, Rural (Residence), Urban (Residence)\n",
    "needed_total_school_age = total_school_age_df[[\"Countries and areas\",\"Income Group\",\"Total\",\"Rural (Residence)\",\"Urban (Residence)\"]]"
   ]
  },
  {
   "cell_type": "code",
   "execution_count": 36,
   "metadata": {},
   "outputs": [],
   "source": [
    "# renaming column names\n",
    "\n",
    "needed_total_school_age = needed_total_school_age.rename(columns={\"Rural (Residence)\":\"Rural\",\"Urban (Residence)\":\"Urban\" })"
   ]
  },
  {
   "cell_type": "code",
   "execution_count": 37,
   "metadata": {},
   "outputs": [
    {
     "data": {
      "text/html": [
       "<div>\n",
       "<style scoped>\n",
       "    .dataframe tbody tr th:only-of-type {\n",
       "        vertical-align: middle;\n",
       "    }\n",
       "\n",
       "    .dataframe tbody tr th {\n",
       "        vertical-align: top;\n",
       "    }\n",
       "\n",
       "    .dataframe thead th {\n",
       "        text-align: right;\n",
       "    }\n",
       "</style>\n",
       "<table border=\"1\" class=\"dataframe\">\n",
       "  <thead>\n",
       "    <tr style=\"text-align: right;\">\n",
       "      <th></th>\n",
       "      <th>Countries and areas</th>\n",
       "      <th>Income Group</th>\n",
       "      <th>Total</th>\n",
       "      <th>Rural</th>\n",
       "      <th>Urban</th>\n",
       "    </tr>\n",
       "  </thead>\n",
       "  <tbody>\n",
       "    <tr>\n",
       "      <th>0</th>\n",
       "      <td>False</td>\n",
       "      <td>False</td>\n",
       "      <td>False</td>\n",
       "      <td>False</td>\n",
       "      <td>False</td>\n",
       "    </tr>\n",
       "    <tr>\n",
       "      <th>1</th>\n",
       "      <td>False</td>\n",
       "      <td>False</td>\n",
       "      <td>False</td>\n",
       "      <td>False</td>\n",
       "      <td>False</td>\n",
       "    </tr>\n",
       "    <tr>\n",
       "      <th>2</th>\n",
       "      <td>False</td>\n",
       "      <td>False</td>\n",
       "      <td>False</td>\n",
       "      <td>True</td>\n",
       "      <td>True</td>\n",
       "    </tr>\n",
       "    <tr>\n",
       "      <th>3</th>\n",
       "      <td>False</td>\n",
       "      <td>False</td>\n",
       "      <td>False</td>\n",
       "      <td>False</td>\n",
       "      <td>False</td>\n",
       "    </tr>\n",
       "    <tr>\n",
       "      <th>4</th>\n",
       "      <td>False</td>\n",
       "      <td>False</td>\n",
       "      <td>False</td>\n",
       "      <td>False</td>\n",
       "      <td>False</td>\n",
       "    </tr>\n",
       "    <tr>\n",
       "      <th>...</th>\n",
       "      <td>...</td>\n",
       "      <td>...</td>\n",
       "      <td>...</td>\n",
       "      <td>...</td>\n",
       "      <td>...</td>\n",
       "    </tr>\n",
       "    <tr>\n",
       "      <th>82</th>\n",
       "      <td>False</td>\n",
       "      <td>False</td>\n",
       "      <td>False</td>\n",
       "      <td>False</td>\n",
       "      <td>False</td>\n",
       "    </tr>\n",
       "    <tr>\n",
       "      <th>83</th>\n",
       "      <td>False</td>\n",
       "      <td>False</td>\n",
       "      <td>False</td>\n",
       "      <td>False</td>\n",
       "      <td>False</td>\n",
       "    </tr>\n",
       "    <tr>\n",
       "      <th>84</th>\n",
       "      <td>False</td>\n",
       "      <td>False</td>\n",
       "      <td>False</td>\n",
       "      <td>True</td>\n",
       "      <td>False</td>\n",
       "    </tr>\n",
       "    <tr>\n",
       "      <th>85</th>\n",
       "      <td>False</td>\n",
       "      <td>False</td>\n",
       "      <td>False</td>\n",
       "      <td>False</td>\n",
       "      <td>False</td>\n",
       "    </tr>\n",
       "    <tr>\n",
       "      <th>86</th>\n",
       "      <td>False</td>\n",
       "      <td>False</td>\n",
       "      <td>False</td>\n",
       "      <td>False</td>\n",
       "      <td>False</td>\n",
       "    </tr>\n",
       "  </tbody>\n",
       "</table>\n",
       "<p>87 rows × 5 columns</p>\n",
       "</div>"
      ],
      "text/plain": [
       "    Countries and areas  Income Group  Total  Rural  Urban\n",
       "0                 False         False  False  False  False\n",
       "1                 False         False  False  False  False\n",
       "2                 False         False  False   True   True\n",
       "3                 False         False  False  False  False\n",
       "4                 False         False  False  False  False\n",
       "..                  ...           ...    ...    ...    ...\n",
       "82                False         False  False  False  False\n",
       "83                False         False  False  False  False\n",
       "84                False         False  False   True  False\n",
       "85                False         False  False  False  False\n",
       "86                False         False  False  False  False\n",
       "\n",
       "[87 rows x 5 columns]"
      ]
     },
     "execution_count": 37,
     "metadata": {},
     "output_type": "execute_result"
    }
   ],
   "source": [
    "needed_total_school_age.isna() # there are null values - leaving them for now"
   ]
  },
  {
   "cell_type": "code",
   "execution_count": 38,
   "metadata": {},
   "outputs": [
    {
     "data": {
      "text/plain": [
       "Countries and areas     0.000000\n",
       "Income Group            0.000000\n",
       "Total                   0.000000\n",
       "Rural                  11.494253\n",
       "Urban                   8.045977\n",
       "dtype: float64"
      ]
     },
     "execution_count": 38,
     "metadata": {},
     "output_type": "execute_result"
    }
   ],
   "source": [
    "# null percentage\n",
    "needed_total_school_age.isna().mean()*100"
   ]
  },
  {
   "cell_type": "code",
   "execution_count": 39,
   "metadata": {},
   "outputs": [],
   "source": [
    "# checking and converting each feature if necessary\n",
    "needed_total_school_age.dtypes # Total is an object, but it Total should be a numeric value (integer)\n",
    "\n",
    "needed_total_school_age[\"Total\"] = needed_total_school_age[\"Total\"].str.strip(\"%\").astype(int)\n"
   ]
  },
  {
   "cell_type": "code",
   "execution_count": 40,
   "metadata": {},
   "outputs": [
    {
     "data": {
      "text/plain": [
       "Upper middle income     32\n",
       "Lower middle income     29\n",
       "Low income              18\n",
       "High income              7\n",
       "Lowerr middle income     1\n",
       "Name: Income Group, dtype: int64"
      ]
     },
     "execution_count": 40,
     "metadata": {},
     "output_type": "execute_result"
    }
   ],
   "source": [
    "# similarly for Rural and Urban\n",
    "\n",
    "#needed_total_school_age[\"Rural\"] = needed_total_school_age[\"Rural\"].str.strip(\"%\").astype(int)\n",
    "#needed_total_school_age[\"Urban\"] = needed_total_school_age[\"Urban\"].str.strip(\"%\").astype(int)\n",
    "needed_total_school_age[\"Income Group\"] = needed_total_school_age[\"Income Group\"].str.split(\"(\").str[0].str.strip(\" \")\n",
    "\n",
    "needed_total_school_age[\"Income Group\"].value_counts()"
   ]
  },
  {
   "cell_type": "code",
   "execution_count": 41,
   "metadata": {},
   "outputs": [
    {
     "data": {
      "text/plain": [
       "Upper middle income    32\n",
       "Lower middle income    30\n",
       "Low income             18\n",
       "High income             7\n",
       "Name: Income Group, dtype: int64"
      ]
     },
     "execution_count": 41,
     "metadata": {},
     "output_type": "execute_result"
    }
   ],
   "source": [
    "# there is one invlaid count - Lowerr middle income. It has spelling mistake, possibly human error. \n",
    "# replace it with Lower middle income\n",
    "needed_total_school_age.loc[needed_total_school_age['Income Group'] == 'Lowerr middle income', 'Income Group'] = 'Lower middle income'\n",
    "needed_total_school_age[\"Income Group\"].value_counts()"
   ]
  },
  {
   "cell_type": "code",
   "execution_count": null,
   "metadata": {},
   "outputs": [],
   "source": []
  },
  {
   "cell_type": "code",
   "execution_count": 42,
   "metadata": {},
   "outputs": [],
   "source": [
    "# mask to find null values of rural and urban based on income group\n",
    "\n",
    "mask_Upper_middle_income = needed_total_school_age[\"Income Group\"]==\"Upper middle income\"\n",
    "mask_Lower_middle_income = needed_total_school_age[\"Income Group\"]==\"Lower middle income\"\n",
    "mask_Low_income = needed_total_school_age[\"Income Group\"]==\"Low income\"\n",
    "mask_High_income = needed_total_school_age[\"Income Group\"]==\"High income\"\n"
   ]
  },
  {
   "cell_type": "code",
   "execution_count": 43,
   "metadata": {},
   "outputs": [],
   "source": [
    "#needed_total_school_age.loc[mask_Upper_middle_income, 'Rural'] = needed_total_school_age.loc[mask_Upper_middle_income, 'Rural'].fillna(needed_total_school_age.loc[mask_Upper_middle_income, 'Rural'].mean())\n",
    "\n",
    "# uncometing and running this will result in error, as rural and urban are still a string with %"
   ]
  },
  {
   "cell_type": "code",
   "execution_count": 44,
   "metadata": {},
   "outputs": [],
   "source": [
    "# converting rural to numeric\n",
    "\n",
    "# coerce - then invalid parsing will be set as NaN, so NaN is set as NaN=\n",
    "needed_total_school_age['Rural'] = pd.to_numeric(needed_total_school_age['Rural'].str.strip('%'),errors='coerce')"
   ]
  },
  {
   "cell_type": "code",
   "execution_count": 45,
   "metadata": {},
   "outputs": [
    {
     "data": {
      "text/plain": [
       "0      9.0\n",
       "1      2.0\n",
       "2      NaN\n",
       "3     71.0\n",
       "4     33.0\n",
       "      ... \n",
       "82    47.0\n",
       "83    16.0\n",
       "84     NaN\n",
       "85     2.0\n",
       "86    18.0\n",
       "Name: Rural, Length: 87, dtype: float64"
      ]
     },
     "execution_count": 45,
     "metadata": {},
     "output_type": "execute_result"
    }
   ],
   "source": [
    "needed_total_school_age['Rural'] "
   ]
  },
  {
   "cell_type": "code",
   "execution_count": 46,
   "metadata": {},
   "outputs": [
    {
     "data": {
      "text/plain": [
       "0     32.0\n",
       "1     24.0\n",
       "2      NaN\n",
       "3     88.0\n",
       "4     52.0\n",
       "      ... \n",
       "82    65.0\n",
       "83    29.0\n",
       "84    62.0\n",
       "85    13.0\n",
       "86    49.0\n",
       "Name: Urban, Length: 87, dtype: float64"
      ]
     },
     "execution_count": 46,
     "metadata": {},
     "output_type": "execute_result"
    }
   ],
   "source": [
    "# similarly for Urban\n",
    "needed_total_school_age['Urban'] = pd.to_numeric(needed_total_school_age['Urban'].str.strip('%'),errors='coerce')\n",
    "needed_total_school_age['Urban']"
   ]
  },
  {
   "cell_type": "code",
   "execution_count": 47,
   "metadata": {},
   "outputs": [
    {
     "name": "stdout",
     "output_type": "stream",
     "text": [
      "True True True True\n"
     ]
    }
   ],
   "source": [
    "print(needed_total_school_age.loc[mask_Upper_middle_income, 'Rural'].isna().any(),\n",
    "needed_total_school_age.loc[mask_Lower_middle_income, 'Rural'].isna().any(),\n",
    "needed_total_school_age.loc[mask_Low_income, 'Rural'].isna().any(),\n",
    "needed_total_school_age.loc[mask_High_income, 'Rural'].isna().any())\n",
    "\n",
    "# All need to be filled"
   ]
  },
  {
   "cell_type": "code",
   "execution_count": 48,
   "metadata": {},
   "outputs": [
    {
     "data": {
      "text/plain": [
       "0     False\n",
       "2     False\n",
       "3     False\n",
       "8     False\n",
       "9     False\n",
       "10    False\n",
       "16    False\n",
       "17    False\n",
       "18    False\n",
       "20    False\n",
       "23    False\n",
       "24    False\n",
       "27    False\n",
       "29    False\n",
       "34    False\n",
       "36    False\n",
       "43    False\n",
       "46    False\n",
       "48    False\n",
       "50    False\n",
       "57    False\n",
       "58    False\n",
       "59    False\n",
       "62    False\n",
       "65    False\n",
       "67    False\n",
       "69    False\n",
       "71    False\n",
       "72    False\n",
       "74    False\n",
       "77    False\n",
       "78    False\n",
       "Name: Rural, dtype: bool"
      ]
     },
     "execution_count": 48,
     "metadata": {},
     "output_type": "execute_result"
    }
   ],
   "source": [
    "needed_total_school_age.loc[mask_Upper_middle_income, 'Rural'] = needed_total_school_age.loc[mask_Upper_middle_income, 'Rural'].fillna(needed_total_school_age.loc[mask_Upper_middle_income, 'Rural'].mean())\n",
    "needed_total_school_age.loc[mask_Upper_middle_income, 'Rural'].isna() # no null, filled with mean value"
   ]
  },
  {
   "cell_type": "code",
   "execution_count": 49,
   "metadata": {},
   "outputs": [],
   "source": [
    "# similary for other income groups\n",
    "# needed_total_school_age.loc[mask_Upper_middle_income, 'Rural'] = needed_total_school_age.loc[mask_Upper_middle_income, 'Rural'].fillna(needed_total_school_age.loc[mask_Upper_middle_income, 'Rural'].mean())\n",
    "needed_total_school_age.loc[mask_Lower_middle_income, 'Rural'] = needed_total_school_age.loc[mask_Lower_middle_income, 'Rural'].fillna(needed_total_school_age.loc[mask_Lower_middle_income, 'Rural'].mean())\n",
    "needed_total_school_age.loc[mask_Low_income, 'Rural'] = needed_total_school_age.loc[mask_Low_income, 'Rural'].fillna(needed_total_school_age.loc[mask_Low_income, 'Rural'].mean())\n",
    "needed_total_school_age.loc[mask_High_income, 'Rural'] = needed_total_school_age.loc[mask_High_income, 'Rural'].fillna(needed_total_school_age.loc[mask_High_income, 'Rural'].mean())"
   ]
  },
  {
   "cell_type": "code",
   "execution_count": 50,
   "metadata": {},
   "outputs": [
    {
     "data": {
      "text/html": [
       "<div>\n",
       "<style scoped>\n",
       "    .dataframe tbody tr th:only-of-type {\n",
       "        vertical-align: middle;\n",
       "    }\n",
       "\n",
       "    .dataframe tbody tr th {\n",
       "        vertical-align: top;\n",
       "    }\n",
       "\n",
       "    .dataframe thead th {\n",
       "        text-align: right;\n",
       "    }\n",
       "</style>\n",
       "<table border=\"1\" class=\"dataframe\">\n",
       "  <thead>\n",
       "    <tr style=\"text-align: right;\">\n",
       "      <th></th>\n",
       "      <th>Countries and areas</th>\n",
       "      <th>Income Group</th>\n",
       "      <th>Total</th>\n",
       "      <th>Rural</th>\n",
       "      <th>Urban</th>\n",
       "    </tr>\n",
       "  </thead>\n",
       "  <tbody>\n",
       "    <tr>\n",
       "      <th>0</th>\n",
       "      <td>False</td>\n",
       "      <td>False</td>\n",
       "      <td>False</td>\n",
       "      <td>False</td>\n",
       "      <td>False</td>\n",
       "    </tr>\n",
       "    <tr>\n",
       "      <th>1</th>\n",
       "      <td>False</td>\n",
       "      <td>False</td>\n",
       "      <td>False</td>\n",
       "      <td>False</td>\n",
       "      <td>False</td>\n",
       "    </tr>\n",
       "    <tr>\n",
       "      <th>2</th>\n",
       "      <td>False</td>\n",
       "      <td>False</td>\n",
       "      <td>False</td>\n",
       "      <td>False</td>\n",
       "      <td>True</td>\n",
       "    </tr>\n",
       "    <tr>\n",
       "      <th>3</th>\n",
       "      <td>False</td>\n",
       "      <td>False</td>\n",
       "      <td>False</td>\n",
       "      <td>False</td>\n",
       "      <td>False</td>\n",
       "    </tr>\n",
       "    <tr>\n",
       "      <th>4</th>\n",
       "      <td>False</td>\n",
       "      <td>False</td>\n",
       "      <td>False</td>\n",
       "      <td>False</td>\n",
       "      <td>False</td>\n",
       "    </tr>\n",
       "    <tr>\n",
       "      <th>...</th>\n",
       "      <td>...</td>\n",
       "      <td>...</td>\n",
       "      <td>...</td>\n",
       "      <td>...</td>\n",
       "      <td>...</td>\n",
       "    </tr>\n",
       "    <tr>\n",
       "      <th>82</th>\n",
       "      <td>False</td>\n",
       "      <td>False</td>\n",
       "      <td>False</td>\n",
       "      <td>False</td>\n",
       "      <td>False</td>\n",
       "    </tr>\n",
       "    <tr>\n",
       "      <th>83</th>\n",
       "      <td>False</td>\n",
       "      <td>False</td>\n",
       "      <td>False</td>\n",
       "      <td>False</td>\n",
       "      <td>False</td>\n",
       "    </tr>\n",
       "    <tr>\n",
       "      <th>84</th>\n",
       "      <td>False</td>\n",
       "      <td>False</td>\n",
       "      <td>False</td>\n",
       "      <td>False</td>\n",
       "      <td>False</td>\n",
       "    </tr>\n",
       "    <tr>\n",
       "      <th>85</th>\n",
       "      <td>False</td>\n",
       "      <td>False</td>\n",
       "      <td>False</td>\n",
       "      <td>False</td>\n",
       "      <td>False</td>\n",
       "    </tr>\n",
       "    <tr>\n",
       "      <th>86</th>\n",
       "      <td>False</td>\n",
       "      <td>False</td>\n",
       "      <td>False</td>\n",
       "      <td>False</td>\n",
       "      <td>False</td>\n",
       "    </tr>\n",
       "  </tbody>\n",
       "</table>\n",
       "<p>87 rows × 5 columns</p>\n",
       "</div>"
      ],
      "text/plain": [
       "    Countries and areas  Income Group  Total  Rural  Urban\n",
       "0                 False         False  False  False  False\n",
       "1                 False         False  False  False  False\n",
       "2                 False         False  False  False   True\n",
       "3                 False         False  False  False  False\n",
       "4                 False         False  False  False  False\n",
       "..                  ...           ...    ...    ...    ...\n",
       "82                False         False  False  False  False\n",
       "83                False         False  False  False  False\n",
       "84                False         False  False  False  False\n",
       "85                False         False  False  False  False\n",
       "86                False         False  False  False  False\n",
       "\n",
       "[87 rows x 5 columns]"
      ]
     },
     "execution_count": 50,
     "metadata": {},
     "output_type": "execute_result"
    }
   ],
   "source": [
    "needed_total_school_age.isna() # rural "
   ]
  },
  {
   "cell_type": "code",
   "execution_count": 51,
   "metadata": {},
   "outputs": [
    {
     "name": "stdout",
     "output_type": "stream",
     "text": [
      "True True True True\n"
     ]
    }
   ],
   "source": [
    "# following above steps for urban\n",
    "\n",
    "print(needed_total_school_age.loc[mask_Upper_middle_income, 'Urban'].isna().any(),\n",
    "needed_total_school_age.loc[mask_Lower_middle_income, 'Urban'].isna().any(),\n",
    "needed_total_school_age.loc[mask_Low_income, 'Urban'].isna().any(),\n",
    "needed_total_school_age.loc[mask_High_income, 'Urban'].isna().any())\n",
    "\n",
    "# same here"
   ]
  },
  {
   "cell_type": "code",
   "execution_count": 52,
   "metadata": {},
   "outputs": [],
   "source": [
    "needed_total_school_age.loc[mask_Upper_middle_income, 'Urban'] = needed_total_school_age.loc[mask_Upper_middle_income, 'Urban'].fillna(needed_total_school_age.loc[mask_Upper_middle_income, 'Urban'].mean())\n",
    "needed_total_school_age.loc[mask_Lower_middle_income, 'Urban'] = needed_total_school_age.loc[mask_Lower_middle_income, 'Urban'].fillna(needed_total_school_age.loc[mask_Lower_middle_income, 'Urban'].mean())\n",
    "needed_total_school_age.loc[mask_Low_income, 'Urban'] = needed_total_school_age.loc[mask_Low_income, 'Urban'].fillna(needed_total_school_age.loc[mask_Low_income, 'Urban'].mean())\n",
    "needed_total_school_age.loc[mask_High_income, 'Urban'] = needed_total_school_age.loc[mask_High_income, 'Urban'].fillna(needed_total_school_age.loc[mask_High_income, 'Urban'].mean())"
   ]
  },
  {
   "cell_type": "code",
   "execution_count": 53,
   "metadata": {
    "scrolled": true
   },
   "outputs": [
    {
     "data": {
      "text/html": [
       "<div>\n",
       "<style scoped>\n",
       "    .dataframe tbody tr th:only-of-type {\n",
       "        vertical-align: middle;\n",
       "    }\n",
       "\n",
       "    .dataframe tbody tr th {\n",
       "        vertical-align: top;\n",
       "    }\n",
       "\n",
       "    .dataframe thead th {\n",
       "        text-align: right;\n",
       "    }\n",
       "</style>\n",
       "<table border=\"1\" class=\"dataframe\">\n",
       "  <thead>\n",
       "    <tr style=\"text-align: right;\">\n",
       "      <th></th>\n",
       "      <th>Countries and areas</th>\n",
       "      <th>Income Group</th>\n",
       "      <th>Total</th>\n",
       "      <th>Rural</th>\n",
       "      <th>Urban</th>\n",
       "    </tr>\n",
       "  </thead>\n",
       "  <tbody>\n",
       "    <tr>\n",
       "      <th>0</th>\n",
       "      <td>False</td>\n",
       "      <td>False</td>\n",
       "      <td>False</td>\n",
       "      <td>False</td>\n",
       "      <td>False</td>\n",
       "    </tr>\n",
       "    <tr>\n",
       "      <th>1</th>\n",
       "      <td>False</td>\n",
       "      <td>False</td>\n",
       "      <td>False</td>\n",
       "      <td>False</td>\n",
       "      <td>False</td>\n",
       "    </tr>\n",
       "    <tr>\n",
       "      <th>2</th>\n",
       "      <td>False</td>\n",
       "      <td>False</td>\n",
       "      <td>False</td>\n",
       "      <td>False</td>\n",
       "      <td>False</td>\n",
       "    </tr>\n",
       "    <tr>\n",
       "      <th>3</th>\n",
       "      <td>False</td>\n",
       "      <td>False</td>\n",
       "      <td>False</td>\n",
       "      <td>False</td>\n",
       "      <td>False</td>\n",
       "    </tr>\n",
       "    <tr>\n",
       "      <th>4</th>\n",
       "      <td>False</td>\n",
       "      <td>False</td>\n",
       "      <td>False</td>\n",
       "      <td>False</td>\n",
       "      <td>False</td>\n",
       "    </tr>\n",
       "    <tr>\n",
       "      <th>...</th>\n",
       "      <td>...</td>\n",
       "      <td>...</td>\n",
       "      <td>...</td>\n",
       "      <td>...</td>\n",
       "      <td>...</td>\n",
       "    </tr>\n",
       "    <tr>\n",
       "      <th>82</th>\n",
       "      <td>False</td>\n",
       "      <td>False</td>\n",
       "      <td>False</td>\n",
       "      <td>False</td>\n",
       "      <td>False</td>\n",
       "    </tr>\n",
       "    <tr>\n",
       "      <th>83</th>\n",
       "      <td>False</td>\n",
       "      <td>False</td>\n",
       "      <td>False</td>\n",
       "      <td>False</td>\n",
       "      <td>False</td>\n",
       "    </tr>\n",
       "    <tr>\n",
       "      <th>84</th>\n",
       "      <td>False</td>\n",
       "      <td>False</td>\n",
       "      <td>False</td>\n",
       "      <td>False</td>\n",
       "      <td>False</td>\n",
       "    </tr>\n",
       "    <tr>\n",
       "      <th>85</th>\n",
       "      <td>False</td>\n",
       "      <td>False</td>\n",
       "      <td>False</td>\n",
       "      <td>False</td>\n",
       "      <td>False</td>\n",
       "    </tr>\n",
       "    <tr>\n",
       "      <th>86</th>\n",
       "      <td>False</td>\n",
       "      <td>False</td>\n",
       "      <td>False</td>\n",
       "      <td>False</td>\n",
       "      <td>False</td>\n",
       "    </tr>\n",
       "  </tbody>\n",
       "</table>\n",
       "<p>87 rows × 5 columns</p>\n",
       "</div>"
      ],
      "text/plain": [
       "    Countries and areas  Income Group  Total  Rural  Urban\n",
       "0                 False         False  False  False  False\n",
       "1                 False         False  False  False  False\n",
       "2                 False         False  False  False  False\n",
       "3                 False         False  False  False  False\n",
       "4                 False         False  False  False  False\n",
       "..                  ...           ...    ...    ...    ...\n",
       "82                False         False  False  False  False\n",
       "83                False         False  False  False  False\n",
       "84                False         False  False  False  False\n",
       "85                False         False  False  False  False\n",
       "86                False         False  False  False  False\n",
       "\n",
       "[87 rows x 5 columns]"
      ]
     },
     "execution_count": 53,
     "metadata": {},
     "output_type": "execute_result"
    }
   ],
   "source": [
    "needed_total_school_age.isna() # urban - no null"
   ]
  },
  {
   "cell_type": "code",
   "execution_count": 54,
   "metadata": {},
   "outputs": [
    {
     "name": "stdout",
     "output_type": "stream",
     "text": [
      "False\n",
      "False\n",
      "False\n"
     ]
    }
   ],
   "source": [
    "# sanity checks for impossible values - impossible values\n",
    "\n",
    "print(needed_total_school_age[\"Total\"].any()>100|needed_total_school_age[\"Total\"].any()<0)\n",
    "print(needed_total_school_age[\"Rural\"].any()>100|needed_total_school_age[\"Rural\"].any()<0)\n",
    "print(needed_total_school_age[\"Urban\"].any()>100|needed_total_school_age[\"Urban\"].any()<0)"
   ]
  },
  {
   "cell_type": "code",
   "execution_count": 55,
   "metadata": {},
   "outputs": [],
   "source": [
    "# saving cleaned file\n",
    "needed_total_school_age.to_csv('cleaned_total_school_age.csv', index=False)\n"
   ]
  },
  {
   "cell_type": "markdown",
   "metadata": {
    "id": "r-i5aIqXpPbu"
   },
   "source": [
    "# Task 2: Data Exploration"
   ]
  },
  {
   "cell_type": "markdown",
   "metadata": {
    "id": "QOY4K_neos9j"
   },
   "source": [
    "## Task 2.1 "
   ]
  },
  {
   "cell_type": "code",
   "execution_count": 56,
   "metadata": {
    "id": "ziwtOfWJn-Eh"
   },
   "outputs": [],
   "source": [
    "nominal = needed_combined_school.loc[\"Primary\"][\"Region\"]\n",
    "ordinal = needed_combined_school.loc[\"Primary\"][\"Income Group\"]\n",
    "numeric = needed_combined_school.loc[\"Primary\"][\"Total\"]"
   ]
  },
  {
   "cell_type": "code",
   "execution_count": 57,
   "metadata": {},
   "outputs": [
    {
     "data": {
      "text/plain": [
       "<AxesSubplot:ylabel='Region'>"
      ]
     },
     "execution_count": 57,
     "metadata": {},
     "output_type": "execute_result"
    },
    {
     "data": {
      "image/png": "[encoded data removed]",
      "text/plain": [
       "<Figure size 432x288 with 1 Axes>"
      ]
     },
     "metadata": {},
     "output_type": "display_data"
    }
   ],
   "source": [
    "nominal.value_counts().plot(kind='pie',autopct='%.2f')"
   ]
  },
  {
   "cell_type": "code",
   "execution_count": 58,
   "metadata": {},
   "outputs": [
    {
     "data": {
      "text/plain": [
       "Text(0.5, 1.0, 'Total percentage of students with internet connection based on Income groups')"
      ]
     },
     "execution_count": 58,
     "metadata": {},
     "output_type": "execute_result"
    },
    {
     "data": {
      "image/png": "[encoded data removed]",
      "text/plain": [
       "<Figure size 792x432 with 1 Axes>"
      ]
     },
     "metadata": {
      "needs_background": "light"
     },
     "output_type": "display_data"
    }
   ],
   "source": [
    "plt.figure(figsize=(11,6))\n",
    "plt.bar(ordinal,numeric)\n",
    "\n",
    "plt.xlabel('Income Group')\n",
    "plt.ylabel('Total Percentage')\n",
    "plt.title('Total percentage of students with internet connection based on Income groups')"
   ]
  },
  {
   "cell_type": "code",
   "execution_count": 59,
   "metadata": {},
   "outputs": [
    {
     "data": {
      "text/plain": [
       "<AxesSubplot:ylabel='Income Group'>"
      ]
     },
     "execution_count": 59,
     "metadata": {},
     "output_type": "execute_result"
    },
    {
     "data": {
      "image/png": "[encoded data removed]",
      "text/plain": [
       "<Figure size 432x288 with 1 Axes>"
      ]
     },
     "metadata": {},
     "output_type": "display_data"
    }
   ],
   "source": [
    "ordinal.value_counts().plot(kind='pie',autopct='%.2f')"
   ]
  },
  {
   "cell_type": "code",
   "execution_count": 60,
   "metadata": {},
   "outputs": [
    {
     "data": {
      "text/plain": [
       "<AxesSubplot:ylabel='Density'>"
      ]
     },
     "execution_count": 60,
     "metadata": {},
     "output_type": "execute_result"
    },
    {
     "data": {
      "image/png": "[encoded data removed]",
      "text/plain": [
       "<Figure size 432x288 with 1 Axes>"
      ]
     },
     "metadata": {
      "needs_background": "light"
     },
     "output_type": "display_data"
    }
   ],
   "source": [
    "numeric.plot(kind='density')"
   ]
  },
  {
   "cell_type": "markdown",
   "metadata": {
    "id": "0-HLFaWTo7Gr"
   },
   "source": [
    "## Task 2.2 "
   ]
  },
  {
   "cell_type": "code",
   "execution_count": 61,
   "metadata": {
    "id": "k3-8Pbi1n-Ei"
   },
   "outputs": [
    {
     "data": {
      "text/html": [
       "<div>\n",
       "<style scoped>\n",
       "    .dataframe tbody tr th:only-of-type {\n",
       "        vertical-align: middle;\n",
       "    }\n",
       "\n",
       "    .dataframe tbody tr th {\n",
       "        vertical-align: top;\n",
       "    }\n",
       "\n",
       "    .dataframe thead th {\n",
       "        text-align: right;\n",
       "    }\n",
       "</style>\n",
       "<table border=\"1\" class=\"dataframe\">\n",
       "  <thead>\n",
       "    <tr style=\"text-align: right;\">\n",
       "      <th></th>\n",
       "      <th>Countries and areas</th>\n",
       "      <th>Income Group</th>\n",
       "      <th>Total</th>\n",
       "      <th>Rural</th>\n",
       "      <th>Urban</th>\n",
       "    </tr>\n",
       "  </thead>\n",
       "  <tbody>\n",
       "    <tr>\n",
       "      <th>81</th>\n",
       "      <td>United Kingdom</td>\n",
       "      <td>High income</td>\n",
       "      <td>99</td>\n",
       "      <td>50.833333</td>\n",
       "      <td>66.0</td>\n",
       "    </tr>\n",
       "    <tr>\n",
       "      <th>62</th>\n",
       "      <td>Serbia</td>\n",
       "      <td>Upper middle income</td>\n",
       "      <td>94</td>\n",
       "      <td>91.000000</td>\n",
       "      <td>97.0</td>\n",
       "    </tr>\n",
       "    <tr>\n",
       "      <th>72</th>\n",
       "      <td>North Macedonia</td>\n",
       "      <td>Upper middle income</td>\n",
       "      <td>92</td>\n",
       "      <td>90.000000</td>\n",
       "      <td>93.0</td>\n",
       "    </tr>\n",
       "    <tr>\n",
       "      <th>74</th>\n",
       "      <td>Tonga</td>\n",
       "      <td>Upper middle income</td>\n",
       "      <td>91</td>\n",
       "      <td>90.000000</td>\n",
       "      <td>94.0</td>\n",
       "    </tr>\n",
       "    <tr>\n",
       "      <th>58</th>\n",
       "      <td>Russian Federation</td>\n",
       "      <td>Upper middle income</td>\n",
       "      <td>89</td>\n",
       "      <td>79.000000</td>\n",
       "      <td>94.0</td>\n",
       "    </tr>\n",
       "    <tr>\n",
       "      <th>15</th>\n",
       "      <td>Chile</td>\n",
       "      <td>High income</td>\n",
       "      <td>86</td>\n",
       "      <td>70.000000</td>\n",
       "      <td>89.0</td>\n",
       "    </tr>\n",
       "    <tr>\n",
       "      <th>27</th>\n",
       "      <td>Georgia</td>\n",
       "      <td>Upper middle income</td>\n",
       "      <td>85</td>\n",
       "      <td>72.000000</td>\n",
       "      <td>93.0</td>\n",
       "    </tr>\n",
       "    <tr>\n",
       "      <th>9</th>\n",
       "      <td>Brazil</td>\n",
       "      <td>Upper middle income</td>\n",
       "      <td>83</td>\n",
       "      <td>51.000000</td>\n",
       "      <td>89.0</td>\n",
       "    </tr>\n",
       "    <tr>\n",
       "      <th>48</th>\n",
       "      <td>Montenegro</td>\n",
       "      <td>Upper middle income</td>\n",
       "      <td>82</td>\n",
       "      <td>74.000000</td>\n",
       "      <td>86.0</td>\n",
       "    </tr>\n",
       "    <tr>\n",
       "      <th>3</th>\n",
       "      <td>Armenia</td>\n",
       "      <td>Upper middle income</td>\n",
       "      <td>81</td>\n",
       "      <td>71.000000</td>\n",
       "      <td>88.0</td>\n",
       "    </tr>\n",
       "  </tbody>\n",
       "</table>\n",
       "</div>"
      ],
      "text/plain": [
       "   Countries and areas         Income Group  Total      Rural  Urban\n",
       "81      United Kingdom          High income     99  50.833333   66.0\n",
       "62              Serbia  Upper middle income     94  91.000000   97.0\n",
       "72     North Macedonia  Upper middle income     92  90.000000   93.0\n",
       "74               Tonga  Upper middle income     91  90.000000   94.0\n",
       "58  Russian Federation  Upper middle income     89  79.000000   94.0\n",
       "15               Chile          High income     86  70.000000   89.0\n",
       "27             Georgia  Upper middle income     85  72.000000   93.0\n",
       "9               Brazil  Upper middle income     83  51.000000   89.0\n",
       "48          Montenegro  Upper middle income     82  74.000000   86.0\n",
       "3              Armenia  Upper middle income     81  71.000000   88.0"
      ]
     },
     "execution_count": 61,
     "metadata": {},
     "output_type": "execute_result"
    }
   ],
   "source": [
    "# select the top 10 countries and areas with the highest total percentage of school-age children who have internet connection at home\n",
    "top_10= needed_total_school_age.sort_values(by='Total', ascending=False)[0:10]\n",
    "top_10"
   ]
  },
  {
   "cell_type": "code",
   "execution_count": 62,
   "metadata": {
    "scrolled": true
   },
   "outputs": [
    {
     "data": {
      "text/plain": [
       "Text(0, 0.5, 'Internet Connection Percentage')"
      ]
     },
     "execution_count": 62,
     "metadata": {},
     "output_type": "execute_result"
    },
    {
     "data": {
      "image/png": "[encoded data removed]",
      "text/plain": [
       "<Figure size 864x360 with 1 Axes>"
      ]
     },
     "metadata": {
      "needs_background": "light"
     },
     "output_type": "display_data"
    }
   ],
   "source": [
    "# create a bar chart of the top 10 countries and areas\n",
    "plt.figure(figsize=(12,5))\n",
    "plt.bar(top_10['Countries and areas'], top_10['Total'])\n",
    "\n",
    "# set the title and axis labels\n",
    "plt.title('Top 10 Countries and Areas with the Highest Total Percentage of School-Age Children Who Have Internet Connection at Home')\n",
    "plt.xlabel('Country/Area')\n",
    "plt.ylabel('Internet Connection Percentage')"
   ]
  },
  {
   "cell_type": "code",
   "execution_count": 63,
   "metadata": {},
   "outputs": [
    {
     "data": {
      "image/png": "[encoded data removed]",
      "text/plain": [
       "<Figure size 864x432 with 1 Axes>"
      ]
     },
     "metadata": {
      "needs_background": "light"
     },
     "output_type": "display_data"
    }
   ],
   "source": [
    "# plot line chart for multiple columns\n",
    "plt.figure(figsize=(12,6))\n",
    "plt.plot(top_10['Countries and areas'], top_10['Rural'], label='Rural')\n",
    "plt.plot(top_10['Countries and areas'], top_10['Urban'], label='Urban')\n",
    "plt.title(\"Rural vs Urban\")\n",
    "plt.legend()\n",
    "plt.show()"
   ]
  },
  {
   "cell_type": "code",
   "execution_count": 64,
   "metadata": {},
   "outputs": [
    {
     "data": {
      "text/plain": [
       "Text(0.5, 1.0, 'Distribution of income groups in top 10 countries')"
      ]
     },
     "execution_count": 64,
     "metadata": {},
     "output_type": "execute_result"
    },
    {
     "data": {
      "image/png": "[encoded data removed]",
      "text/plain": [
       "<Figure size 432x288 with 1 Axes>"
      ]
     },
     "metadata": {},
     "output_type": "display_data"
    }
   ],
   "source": [
    "top_10[\"Income Group\"].value_counts().plot(kind='pie',autopct='%.2f%%')\n",
    "plt.title('Distribution of income groups in top 10 countries')"
   ]
  },
  {
   "cell_type": "markdown",
   "metadata": {
    "id": "jnasiwOAo_RP"
   },
   "source": [
    "## Task 2.3 "
   ]
  },
  {
   "cell_type": "code",
   "execution_count": 65,
   "metadata": {
    "id": "hHsmCb2gn-Ei"
   },
   "outputs": [
    {
     "data": {
      "text/plain": [
       "<Figure size 864x864 with 0 Axes>"
      ]
     },
     "metadata": {},
     "output_type": "display_data"
    },
    {
     "data": {
      "image/png": "[encoded data removed]",
      "text/plain": [
       "<Figure size 432x288 with 1 Axes>"
      ]
     },
     "metadata": {
      "needs_background": "light"
     },
     "output_type": "display_data"
    }
   ],
   "source": [
    "lower = needed_combined_school[\"Income Group\"] == \"Lower middle income (LM)\"\n",
    "plt.figure(figsize=(12,12))\n",
    "needed_combined_school.dropna().boxplot(column=\"Total\",by='Eduction level')\n",
    "plt.show()\n"
   ]
  },
  {
   "cell_type": "code",
   "execution_count": 66,
   "metadata": {},
   "outputs": [],
   "source": [
    "# eof"
   ]
  }
 ],
 "metadata": {
  "colab": {
   "collapsed_sections": [],
   "name": "assignment1_TEMPLATE.ipynb",
   "provenance": [],
   "toc_visible": true
  },
  "kernelspec": {
   "display_name": "Python 3",
   "language": "python",
   "name": "python3"
  },
  "language_info": {
   "codemirror_mode": {
    "name": "ipython",
    "version": 3
   },
   "file_extension": ".py",
   "mimetype": "text/x-python",
   "name": "python",
   "nbconvert_exporter": "python",
   "pygments_lexer": "ipython3",
   "version": "3.7.7"
  }
 },
 "nbformat": 4,
 "nbformat_minor": 1
}
